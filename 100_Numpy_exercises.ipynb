{
 "cells": [
  {
   "cell_type": "markdown",
   "id": "ad1d1330",
   "metadata": {},
   "source": [
    "# 100 numpy exercises\n",
    "\n",
    "This is a collection of exercises that have been collected in the numpy mailing list, on stack overflow\n",
    "and in the numpy documentation. The goal of this collection is to offer a quick reference for both old\n",
    "and new users but also to provide a set of exercises for those who teach.\n",
    "\n",
    "\n",
    "If you find an error or think you've a better way to solve some of them, feel\n",
    "free to open an issue at <https://github.com/rougier/numpy-100>."
   ]
  },
  {
   "cell_type": "markdown",
   "id": "1d620162",
   "metadata": {},
   "source": [
    "File automatically generated. See the documentation to update questions/answers/hints programmatically."
   ]
  },
  {
   "cell_type": "markdown",
   "id": "8574d627",
   "metadata": {},
   "source": [
    "Run the `initialize.py` module, then for each question you can query the\n",
    "answer or an hint with `hint(n)` or `answer(n)` for `n` question number."
   ]
  },
  {
   "cell_type": "code",
   "execution_count": 1,
   "id": "c6fe8a29",
   "metadata": {},
   "outputs": [],
   "source": [
    "#%run initialise.py"
   ]
  },
  {
   "cell_type": "markdown",
   "id": "954c5d8f",
   "metadata": {},
   "source": [
    "#### 1. Import the numpy package under the name `np` (★☆☆)"
   ]
  },
  {
   "cell_type": "code",
   "execution_count": 2,
   "id": "4006c08e",
   "metadata": {},
   "outputs": [],
   "source": [
    "import numpy as np"
   ]
  },
  {
   "cell_type": "markdown",
   "id": "88e34f09",
   "metadata": {},
   "source": [
    "#### 2. Print the numpy version and the configuration (★☆☆)"
   ]
  },
  {
   "cell_type": "code",
   "execution_count": 3,
   "id": "b1122a25",
   "metadata": {},
   "outputs": [
    {
     "name": "stdout",
     "output_type": "stream",
     "text": [
      "openblas64__info:\n",
      "    libraries = ['openblas64_', 'openblas64_']\n",
      "    library_dirs = ['/usr/local/lib']\n",
      "    language = c\n",
      "    define_macros = [('HAVE_CBLAS', None), ('BLAS_SYMBOL_SUFFIX', '64_'), ('HAVE_BLAS_ILP64', None)]\n",
      "    runtime_library_dirs = ['/usr/local/lib']\n",
      "blas_ilp64_opt_info:\n",
      "    libraries = ['openblas64_', 'openblas64_']\n",
      "    library_dirs = ['/usr/local/lib']\n",
      "    language = c\n",
      "    define_macros = [('HAVE_CBLAS', None), ('BLAS_SYMBOL_SUFFIX', '64_'), ('HAVE_BLAS_ILP64', None)]\n",
      "    runtime_library_dirs = ['/usr/local/lib']\n",
      "openblas64__lapack_info:\n",
      "    libraries = ['openblas64_', 'openblas64_']\n",
      "    library_dirs = ['/usr/local/lib']\n",
      "    language = c\n",
      "    define_macros = [('HAVE_CBLAS', None), ('BLAS_SYMBOL_SUFFIX', '64_'), ('HAVE_BLAS_ILP64', None), ('HAVE_LAPACKE', None)]\n",
      "    runtime_library_dirs = ['/usr/local/lib']\n",
      "lapack_ilp64_opt_info:\n",
      "    libraries = ['openblas64_', 'openblas64_']\n",
      "    library_dirs = ['/usr/local/lib']\n",
      "    language = c\n",
      "    define_macros = [('HAVE_CBLAS', None), ('BLAS_SYMBOL_SUFFIX', '64_'), ('HAVE_BLAS_ILP64', None), ('HAVE_LAPACKE', None)]\n",
      "    runtime_library_dirs = ['/usr/local/lib']\n",
      "Supported SIMD extensions in this NumPy install:\n",
      "    baseline = SSE,SSE2,SSE3\n",
      "    found = SSSE3,SSE41,POPCNT,SSE42,AVX,F16C,FMA3,AVX2\n",
      "    not found = AVX512F,AVX512CD,AVX512_KNL,AVX512_SKX,AVX512_CLX,AVX512_CNL,AVX512_ICL\n"
     ]
    },
    {
     "data": {
      "text/plain": [
       "'1.24.2'"
      ]
     },
     "execution_count": 3,
     "metadata": {},
     "output_type": "execute_result"
    }
   ],
   "source": [
    "np.show_config()\n",
    "np.version.full_version"
   ]
  },
  {
   "cell_type": "markdown",
   "id": "37c21848",
   "metadata": {},
   "source": [
    "#### 3. Create a null vector of size 10 (★☆☆)"
   ]
  },
  {
   "cell_type": "code",
   "execution_count": 4,
   "id": "e090a462",
   "metadata": {},
   "outputs": [
    {
     "data": {
      "text/plain": [
       "array([0., 0., 0., 0., 0., 0., 0., 0., 0., 0.])"
      ]
     },
     "execution_count": 4,
     "metadata": {},
     "output_type": "execute_result"
    }
   ],
   "source": [
    "v = np.zeros(10)\n",
    "v"
   ]
  },
  {
   "cell_type": "markdown",
   "id": "7c0e6add",
   "metadata": {},
   "source": [
    "#### 4. How to find the memory size of any array (★☆☆)"
   ]
  },
  {
   "cell_type": "code",
   "execution_count": 5,
   "id": "8c96715d",
   "metadata": {},
   "outputs": [
    {
     "data": {
      "text/plain": [
       "(192, 10, 10)"
      ]
     },
     "execution_count": 5,
     "metadata": {},
     "output_type": "execute_result"
    }
   ],
   "source": [
    "v.__sizeof__(), len(v), v.size"
   ]
  },
  {
   "cell_type": "markdown",
   "id": "4cf547db",
   "metadata": {},
   "source": [
    "#### 5. How to get the documentation of the numpy add function from the command line? (★☆☆)"
   ]
  },
  {
   "cell_type": "code",
   "execution_count": 6,
   "id": "2a24a1e9",
   "metadata": {},
   "outputs": [
    {
     "name": "stdout",
     "output_type": "stream",
     "text": [
      "add(x1, x2, /, out=None, *, where=True, casting='same_kind', order='K', dtype=None, subok=True[, signature, extobj])\n",
      "\n",
      "Add arguments element-wise.\n",
      "\n",
      "Parameters\n",
      "----------\n",
      "x1, x2 : array_like\n",
      "    The arrays to be added.\n",
      "    If ``x1.shape != x2.shape``, they must be broadcastable to a common\n",
      "    shape (which becomes the shape of the output).\n",
      "out : ndarray, None, or tuple of ndarray and None, optional\n",
      "    A location into which the result is stored. If provided, it must have\n",
      "    a shape that the inputs broadcast to. If not provided or None,\n",
      "    a freshly-allocated array is returned. A tuple (possible only as a\n",
      "    keyword argument) must have length equal to the number of outputs.\n",
      "where : array_like, optional\n",
      "    This condition is broadcast over the input. At locations where the\n",
      "    condition is True, the `out` array will be set to the ufunc result.\n",
      "    Elsewhere, the `out` array will retain its original value.\n",
      "    Note that if an uninitialized `out` array is created via the default\n",
      "    ``out=None``, locations within it where the condition is False will\n",
      "    remain uninitialized.\n",
      "**kwargs\n",
      "    For other keyword-only arguments, see the\n",
      "    :ref:`ufunc docs <ufuncs.kwargs>`.\n",
      "\n",
      "Returns\n",
      "-------\n",
      "add : ndarray or scalar\n",
      "    The sum of `x1` and `x2`, element-wise.\n",
      "    This is a scalar if both `x1` and `x2` are scalars.\n",
      "\n",
      "Notes\n",
      "-----\n",
      "Equivalent to `x1` + `x2` in terms of array broadcasting.\n",
      "\n",
      "Examples\n",
      "--------\n",
      ">>> np.add(1.0, 4.0)\n",
      "5.0\n",
      ">>> x1 = np.arange(9.0).reshape((3, 3))\n",
      ">>> x2 = np.arange(3.0)\n",
      ">>> np.add(x1, x2)\n",
      "array([[  0.,   2.,   4.],\n",
      "       [  3.,   5.,   7.],\n",
      "       [  6.,   8.,  10.]])\n",
      "\n",
      "The ``+`` operator can be used as a shorthand for ``np.add`` on ndarrays.\n",
      "\n",
      ">>> x1 = np.arange(9.0).reshape((3, 3))\n",
      ">>> x2 = np.arange(3.0)\n",
      ">>> x1 + x2\n",
      "array([[ 0.,  2.,  4.],\n",
      "       [ 3.,  5.,  7.],\n",
      "       [ 6.,  8., 10.]])\n"
     ]
    }
   ],
   "source": [
    "np.info(np.add)"
   ]
  },
  {
   "cell_type": "markdown",
   "id": "bf6679c3",
   "metadata": {},
   "source": [
    "#### 6. Create a null vector of size 10 but the fifth value which is 1 (★☆☆)"
   ]
  },
  {
   "cell_type": "code",
   "execution_count": 7,
   "id": "f4cd59b6",
   "metadata": {},
   "outputs": [
    {
     "data": {
      "text/plain": [
       "array([0., 0., 0., 0., 1., 0., 0., 0., 0., 0.])"
      ]
     },
     "execution_count": 7,
     "metadata": {},
     "output_type": "execute_result"
    }
   ],
   "source": [
    "v = np.zeros(10)\n",
    "v[4] = 1\n",
    "v"
   ]
  },
  {
   "cell_type": "markdown",
   "id": "022451fb",
   "metadata": {},
   "source": [
    "#### 7. Create a vector with values ranging from 10 to 49 (★☆☆)"
   ]
  },
  {
   "cell_type": "code",
   "execution_count": 8,
   "id": "22c2f0a8",
   "metadata": {},
   "outputs": [
    {
     "data": {
      "text/plain": [
       "array([10, 11, 12, 13, 14, 15, 16, 17, 18, 19, 20, 21, 22, 23, 24, 25, 26,\n",
       "       27, 28, 29, 30, 31, 32, 33, 34, 35, 36, 37, 38, 39, 40, 41, 42, 43,\n",
       "       44, 45, 46, 47, 48])"
      ]
     },
     "execution_count": 8,
     "metadata": {},
     "output_type": "execute_result"
    }
   ],
   "source": [
    "np.arange(10, 49)"
   ]
  },
  {
   "cell_type": "markdown",
   "id": "aca8f6ee",
   "metadata": {},
   "source": [
    "#### 8. Reverse a vector (first element becomes last) (★☆☆)"
   ]
  },
  {
   "cell_type": "code",
   "execution_count": 9,
   "id": "15f37616",
   "metadata": {},
   "outputs": [
    {
     "data": {
      "text/plain": [
       "array([48, 47, 46, 45, 44, 43, 42, 41, 40, 39, 38, 37, 36, 35, 34, 33, 32,\n",
       "       31, 30, 29, 28, 27, 26, 25, 24, 23, 22, 21, 20, 19, 18, 17, 16, 15,\n",
       "       14, 13, 12, 11, 10])"
      ]
     },
     "execution_count": 9,
     "metadata": {},
     "output_type": "execute_result"
    }
   ],
   "source": [
    "np.arange(10, 49)[::-1]"
   ]
  },
  {
   "cell_type": "markdown",
   "id": "97bfddd4",
   "metadata": {},
   "source": [
    "#### 9. Create a 3x3 matrix with values ranging from 0 to 8 (★☆☆)"
   ]
  },
  {
   "cell_type": "code",
   "execution_count": 10,
   "id": "8b93d83c",
   "metadata": {},
   "outputs": [
    {
     "data": {
      "text/plain": [
       "array([[0, 1, 2],\n",
       "       [3, 4, 5],\n",
       "       [6, 7, 8]])"
      ]
     },
     "execution_count": 10,
     "metadata": {},
     "output_type": "execute_result"
    }
   ],
   "source": [
    "np.arange(0, 9).reshape((3, 3))"
   ]
  },
  {
   "cell_type": "markdown",
   "id": "a073dad0",
   "metadata": {},
   "source": [
    "#### 10. Find indices of non-zero elements from [1,2,0,0,4,0] (★☆☆)"
   ]
  },
  {
   "cell_type": "code",
   "execution_count": 11,
   "id": "c21fb91c",
   "metadata": {},
   "outputs": [
    {
     "data": {
      "text/plain": [
       "(array([0, 1, 4]),)"
      ]
     },
     "execution_count": 11,
     "metadata": {},
     "output_type": "execute_result"
    }
   ],
   "source": [
    "a = np.array([1, 2, 0, 0, 4, 0])\n",
    "a.nonzero()"
   ]
  },
  {
   "cell_type": "markdown",
   "id": "82b9a7a0",
   "metadata": {},
   "source": [
    "#### 11. Create a 3x3 identity matrix (★☆☆)"
   ]
  },
  {
   "cell_type": "code",
   "execution_count": 12,
   "id": "7ce1325a",
   "metadata": {},
   "outputs": [
    {
     "data": {
      "text/plain": [
       "array([[1., 0., 0.],\n",
       "       [0., 1., 0.],\n",
       "       [0., 0., 1.]])"
      ]
     },
     "execution_count": 12,
     "metadata": {},
     "output_type": "execute_result"
    }
   ],
   "source": [
    "np.eye(3)"
   ]
  },
  {
   "cell_type": "markdown",
   "id": "0e6364d3",
   "metadata": {},
   "source": [
    "#### 12. Create a 3x3x3 array with random values (★☆☆)"
   ]
  },
  {
   "cell_type": "code",
   "execution_count": 13,
   "id": "8139c1c8",
   "metadata": {},
   "outputs": [
    {
     "data": {
      "text/plain": [
       "array([[[0.23096742, 0.42623389, 0.60489527],\n",
       "        [0.74903912, 0.41415133, 0.73879869],\n",
       "        [0.01398445, 0.02001838, 0.60864766]],\n",
       "\n",
       "       [[0.3832937 , 0.58966788, 0.97277576],\n",
       "        [0.6179568 , 0.83403731, 0.67666343],\n",
       "        [0.30535982, 0.50148883, 0.19356546]],\n",
       "\n",
       "       [[0.36650689, 0.78975383, 0.7849556 ],\n",
       "        [0.6018429 , 0.05614588, 0.51415639],\n",
       "        [0.42255218, 0.41233742, 0.46687636]]])"
      ]
     },
     "execution_count": 13,
     "metadata": {},
     "output_type": "execute_result"
    }
   ],
   "source": [
    "np.random.random((3, 3, 3))"
   ]
  },
  {
   "cell_type": "markdown",
   "id": "49ef36a6",
   "metadata": {},
   "source": [
    "#### 13. Create a 10x10 array with random values and find the minimum and maximum values (★☆☆)"
   ]
  },
  {
   "cell_type": "code",
   "execution_count": 14,
   "id": "5b4c73c7",
   "metadata": {},
   "outputs": [
    {
     "data": {
      "text/plain": [
       "(0.04765290458262128, 0.9817360711929662)"
      ]
     },
     "execution_count": 14,
     "metadata": {},
     "output_type": "execute_result"
    }
   ],
   "source": [
    "a = np.random.random((10, 10))\n",
    "a.min(), a.max()"
   ]
  },
  {
   "cell_type": "markdown",
   "id": "625eb243",
   "metadata": {},
   "source": [
    "#### 14. Create a random vector of size 30 and find the mean value (★☆☆)"
   ]
  },
  {
   "cell_type": "code",
   "execution_count": 15,
   "id": "ba7b8300",
   "metadata": {},
   "outputs": [
    {
     "data": {
      "text/plain": [
       "0.47985994441740293"
      ]
     },
     "execution_count": 15,
     "metadata": {},
     "output_type": "execute_result"
    }
   ],
   "source": [
    "a = np.random.random(10)\n",
    "a.mean()"
   ]
  },
  {
   "cell_type": "markdown",
   "id": "19540b2f",
   "metadata": {},
   "source": [
    "#### 15. Create a 2d array with 1 on the border and 0 inside (★☆☆)"
   ]
  },
  {
   "cell_type": "code",
   "execution_count": 16,
   "id": "19e78d2c",
   "metadata": {},
   "outputs": [
    {
     "data": {
      "text/plain": [
       "array([[1., 1., 1., 1., 1.],\n",
       "       [1., 0., 0., 0., 1.],\n",
       "       [1., 0., 0., 0., 1.],\n",
       "       [1., 0., 0., 0., 1.],\n",
       "       [1., 1., 1., 1., 1.]])"
      ]
     },
     "execution_count": 16,
     "metadata": {},
     "output_type": "execute_result"
    }
   ],
   "source": [
    "a = np.ones((5, 5))\n",
    "a[1:-1, 1:-1] = 0\n",
    "a"
   ]
  },
  {
   "cell_type": "markdown",
   "id": "3f0fe171",
   "metadata": {},
   "source": [
    "#### 16. How to add a border (filled with 0's) around an existing array? (★☆☆)"
   ]
  },
  {
   "cell_type": "code",
   "execution_count": 17,
   "id": "662a99b4",
   "metadata": {},
   "outputs": [
    {
     "data": {
      "text/plain": [
       "array([[0., 0., 0., 0., 0., 0., 0.],\n",
       "       [0., 1., 1., 1., 1., 1., 0.],\n",
       "       [0., 1., 0., 0., 0., 1., 0.],\n",
       "       [0., 1., 0., 0., 0., 1., 0.],\n",
       "       [0., 1., 0., 0., 0., 1., 0.],\n",
       "       [0., 1., 1., 1., 1., 1., 0.],\n",
       "       [0., 0., 0., 0., 0., 0., 0.]])"
      ]
     },
     "execution_count": 17,
     "metadata": {},
     "output_type": "execute_result"
    }
   ],
   "source": [
    "ashape = tuple(np.array(a.shape) + 2)\n",
    "d = np.zeros(ashape)\n",
    "d[1:-1, 1:-1] = a\n",
    "d"
   ]
  },
  {
   "cell_type": "markdown",
   "id": "0464c4af",
   "metadata": {},
   "source": [
    "#### 17. What is the result of the following expression? (★☆☆)\n",
    "```python\n",
    "0 * np.nan\n",
    "np.nan == np.nan\n",
    "np.inf > np.nan\n",
    "np.nan - np.nan\n",
    "np.nan in set([np.nan])\n",
    "0.3 == 3 * 0.1\n",
    "```"
   ]
  },
  {
   "cell_type": "code",
   "execution_count": 18,
   "id": "18926a29",
   "metadata": {},
   "outputs": [
    {
     "name": "stdout",
     "output_type": "stream",
     "text": [
      "True True True True True True\n"
     ]
    }
   ],
   "source": [
    "print(\n",
    "    np.isnan(0 * np.nan), \n",
    "    (np.nan == np.nan) == False, \n",
    "    (np.inf > np.nan) == False, \n",
    "    np.isnan(np.nan - np.nan),\n",
    "    (np.nan in set([np.nan])) == True,\n",
    "    (0.3 == 3 * 0.1) == False\n",
    "    )"
   ]
  },
  {
   "cell_type": "markdown",
   "id": "afb90e8b",
   "metadata": {},
   "source": [
    "#### 18. Create a 5x5 matrix with values 1,2,3,4 just below the diagonal (★☆☆)"
   ]
  },
  {
   "cell_type": "code",
   "execution_count": 19,
   "id": "8a988102",
   "metadata": {},
   "outputs": [
    {
     "data": {
      "text/plain": [
       "array([[0, 0, 0, 0, 0],\n",
       "       [1, 0, 0, 0, 0],\n",
       "       [0, 2, 0, 0, 0],\n",
       "       [0, 0, 3, 0, 0],\n",
       "       [0, 0, 0, 4, 0]])"
      ]
     },
     "execution_count": 19,
     "metadata": {},
     "output_type": "execute_result"
    }
   ],
   "source": [
    "np.diag(np.arange(1, 5), k=-1)"
   ]
  },
  {
   "cell_type": "markdown",
   "id": "ca611f9e",
   "metadata": {},
   "source": [
    "#### 19. Create a 8x8 matrix and fill it with a checkerboard pattern (★☆☆)"
   ]
  },
  {
   "cell_type": "code",
   "execution_count": 20,
   "id": "24049fc7",
   "metadata": {},
   "outputs": [
    {
     "data": {
      "text/plain": [
       "array([[0., 1., 0., 1., 0., 1., 0., 1.],\n",
       "       [1., 0., 1., 0., 1., 0., 1., 0.],\n",
       "       [0., 1., 0., 1., 0., 1., 0., 1.],\n",
       "       [1., 0., 1., 0., 1., 0., 1., 0.],\n",
       "       [0., 1., 0., 1., 0., 1., 0., 1.],\n",
       "       [1., 0., 1., 0., 1., 0., 1., 0.],\n",
       "       [0., 1., 0., 1., 0., 1., 0., 1.],\n",
       "       [1., 0., 1., 0., 1., 0., 1., 0.]])"
      ]
     },
     "execution_count": 20,
     "metadata": {},
     "output_type": "execute_result"
    }
   ],
   "source": [
    "a = np.ones((8, 8))\n",
    "a[0::2, 0::2] = 0\n",
    "a[1::2, 1::2] = 0\n",
    "a"
   ]
  },
  {
   "cell_type": "markdown",
   "id": "9b77f7af",
   "metadata": {},
   "source": [
    "#### 20. Consider a (6,7,8) shape array, what is the index (x,y,z) of the 100th element? (★☆☆)"
   ]
  },
  {
   "cell_type": "code",
   "execution_count": 21,
   "id": "402efd68",
   "metadata": {},
   "outputs": [
    {
     "data": {
      "text/plain": [
       "(1, 5, 3)"
      ]
     },
     "execution_count": 21,
     "metadata": {},
     "output_type": "execute_result"
    }
   ],
   "source": [
    "np.unravel_index(99, (6, 7, 8))"
   ]
  },
  {
   "cell_type": "markdown",
   "id": "07e399b8",
   "metadata": {},
   "source": [
    "#### 21. Create a checkerboard 8x8 matrix using the tile function (★☆☆)"
   ]
  },
  {
   "cell_type": "code",
   "execution_count": 22,
   "id": "867964a9",
   "metadata": {},
   "outputs": [
    {
     "data": {
      "text/plain": [
       "array([[0, 1, 0, 1, 0, 1, 0, 1],\n",
       "       [1, 0, 1, 0, 1, 0, 1, 0],\n",
       "       [0, 1, 0, 1, 0, 1, 0, 1],\n",
       "       [1, 0, 1, 0, 1, 0, 1, 0],\n",
       "       [0, 1, 0, 1, 0, 1, 0, 1],\n",
       "       [1, 0, 1, 0, 1, 0, 1, 0],\n",
       "       [0, 1, 0, 1, 0, 1, 0, 1],\n",
       "       [1, 0, 1, 0, 1, 0, 1, 0]])"
      ]
     },
     "execution_count": 22,
     "metadata": {},
     "output_type": "execute_result"
    }
   ],
   "source": [
    "np.tile(np.array([[0, 1], [1, 0]]), reps=(4, 4))"
   ]
  },
  {
   "cell_type": "markdown",
   "id": "bc92d88a",
   "metadata": {},
   "source": [
    "#### 22. Normalize a 5x5 random matrix (★☆☆)"
   ]
  },
  {
   "cell_type": "code",
   "execution_count": 23,
   "id": "a3709496",
   "metadata": {},
   "outputs": [
    {
     "data": {
      "text/plain": [
       "array([[0.00301234, 0.15550552, 0.48191476, 0.22263241, 0.05169702],\n",
       "       [0.89362777, 0.0828822 , 0.29334502, 0.7393916 , 1.        ],\n",
       "       [0.67315716, 0.44432626, 0.60678645, 0.88292015, 0.        ],\n",
       "       [0.77479603, 0.6343853 , 0.2962966 , 0.43317117, 0.79989524],\n",
       "       [0.57944676, 0.03679545, 0.17736602, 0.48766844, 0.51892069]])"
      ]
     },
     "execution_count": 23,
     "metadata": {},
     "output_type": "execute_result"
    }
   ],
   "source": [
    "a = np.random.random((5, 5))\n",
    "a = (a - a.min()) / (a.max() - a.min())\n",
    "a"
   ]
  },
  {
   "cell_type": "markdown",
   "id": "9e2fd8ce",
   "metadata": {},
   "source": [
    "#### 23. Create a custom dtype that describes a color as four unsigned bytes (RGBA) (★☆☆)"
   ]
  },
  {
   "cell_type": "code",
   "execution_count": 24,
   "id": "5881b2b5",
   "metadata": {},
   "outputs": [],
   "source": [
    "rgba = np.dtype([(\"r\", np.ubyte), (\"g\", np.ubyte), (\"b\", np.ubyte), (\"a\", np.ubyte)])"
   ]
  },
  {
   "cell_type": "markdown",
   "id": "d6904ab9",
   "metadata": {},
   "source": [
    "#### 24. Multiply a 5x3 matrix by a 3x2 matrix (real matrix product) (★☆☆)"
   ]
  },
  {
   "cell_type": "code",
   "execution_count": 25,
   "id": "cb3b6528",
   "metadata": {},
   "outputs": [
    {
     "data": {
      "text/plain": [
       "array([[0.79008415, 1.12373047, 1.5898065 , 0.5855577 , 1.61587823,\n",
       "        1.81167157, 0.61045109, 1.5479206 ],\n",
       "       [0.60168329, 0.68937262, 1.12369988, 0.37980935, 0.96710423,\n",
       "        1.33774597, 0.51111413, 0.94005733],\n",
       "       [0.7247968 , 0.74332283, 1.42507246, 0.52578885, 1.16158075,\n",
       "        1.67603832, 0.6698197 , 1.18570847],\n",
       "       [0.46348723, 0.70195228, 1.04129023, 0.43638765, 1.11482674,\n",
       "        1.13737609, 0.36831232, 1.10091188],\n",
       "       [0.13168748, 0.23666   , 0.40773955, 0.2200485 , 0.48193714,\n",
       "        0.40087677, 0.11794515, 0.50703999]])"
      ]
     },
     "execution_count": 25,
     "metadata": {},
     "output_type": "execute_result"
    }
   ],
   "source": [
    "a = np.random.random((5, 3))\n",
    "b = np.random.random((3, 8))\n",
    "np.dot(a, b)"
   ]
  },
  {
   "cell_type": "markdown",
   "id": "c57116dd",
   "metadata": {},
   "source": [
    "#### 25. Given a 1D array, negate all elements which are between 3 and 8, in place. (★☆☆)"
   ]
  },
  {
   "cell_type": "code",
   "execution_count": 26,
   "id": "4fbf1b1e",
   "metadata": {},
   "outputs": [
    {
     "data": {
      "text/plain": [
       "array([ 1,  2,  3, -4, -5, -6, -7,  8,  9])"
      ]
     },
     "execution_count": 26,
     "metadata": {},
     "output_type": "execute_result"
    }
   ],
   "source": [
    "a = np.arange(1, 10)\n",
    "a[(a > 3) & (a < 8)] *= -1\n",
    "a"
   ]
  },
  {
   "cell_type": "markdown",
   "id": "52707d61",
   "metadata": {},
   "source": [
    "#### 26. What is the output of the following script? (★☆☆)\n",
    "```python\n",
    "# Author: Jake VanderPlas\n",
    "\n",
    "print(sum(range(5),-1))\n",
    "from numpy import *\n",
    "print(sum(range(5),-1))\n",
    "```"
   ]
  },
  {
   "cell_type": "code",
   "execution_count": 27,
   "id": "18a238e6",
   "metadata": {},
   "outputs": [
    {
     "data": {
      "text/plain": [
       "(9, 10)"
      ]
     },
     "execution_count": 27,
     "metadata": {},
     "output_type": "execute_result"
    }
   ],
   "source": [
    "9, 10"
   ]
  },
  {
   "cell_type": "markdown",
   "id": "5ab377fd",
   "metadata": {},
   "source": [
    "#### 27. Consider an integer vector Z, which of these expressions are legal? (★☆☆)\n",
    "```python\n",
    "Z**Z\n",
    "2 << Z >> 2\n",
    "Z <- Z\n",
    "1j*Z\n",
    "Z/1/1\n",
    "Z<Z>Z\n",
    "```"
   ]
  },
  {
   "cell_type": "code",
   "execution_count": 28,
   "id": "36cc66a9",
   "metadata": {},
   "outputs": [
    {
     "data": {
      "text/plain": [
       "(array([ 1,  4, 27]),\n",
       " array([1, 2, 4]),\n",
       " array([False, False, False]),\n",
       " array([0.+1.j, 0.+2.j, 0.+3.j]),\n",
       " array([1., 2., 3.]))"
      ]
     },
     "execution_count": 28,
     "metadata": {},
     "output_type": "execute_result"
    }
   ],
   "source": [
    "z = np.array([1, 2, 3])\n",
    "z ** z, 2 << z >> 2, z <- z, 1j*z, z/1/1"
   ]
  },
  {
   "cell_type": "markdown",
   "id": "654f223f",
   "metadata": {},
   "source": [
    "#### 28. What are the result of the following expressions? (★☆☆)\n",
    "```python\n",
    "np.array(0) / np.array(0)\n",
    "np.array(0) // np.array(0)\n",
    "np.array([np.nan]).astype(int).astype(float)\n",
    "```"
   ]
  },
  {
   "cell_type": "code",
   "execution_count": 29,
   "id": "6d9d3c21",
   "metadata": {},
   "outputs": [
    {
     "name": "stderr",
     "output_type": "stream",
     "text": [
      "/var/folders/_c/2vztvhm558dd_36p09zpg5nc0000gn/T/ipykernel_2847/2446836393.py:1: RuntimeWarning: invalid value encountered in divide\n",
      "  np.array(0) / np.array(0), np.array(0) // np.array(0), np.array([np.nan]).astype(int).astype(float)\n",
      "/var/folders/_c/2vztvhm558dd_36p09zpg5nc0000gn/T/ipykernel_2847/2446836393.py:1: RuntimeWarning: divide by zero encountered in floor_divide\n",
      "  np.array(0) / np.array(0), np.array(0) // np.array(0), np.array([np.nan]).astype(int).astype(float)\n",
      "/var/folders/_c/2vztvhm558dd_36p09zpg5nc0000gn/T/ipykernel_2847/2446836393.py:1: RuntimeWarning: invalid value encountered in cast\n",
      "  np.array(0) / np.array(0), np.array(0) // np.array(0), np.array([np.nan]).astype(int).astype(float)\n"
     ]
    },
    {
     "data": {
      "text/plain": [
       "(nan, 0, array([-9.22337204e+18]))"
      ]
     },
     "execution_count": 29,
     "metadata": {},
     "output_type": "execute_result"
    }
   ],
   "source": [
    "np.array(0) / np.array(0), np.array(0) // np.array(0), np.array([np.nan]).astype(int).astype(float)"
   ]
  },
  {
   "cell_type": "markdown",
   "id": "a7e00adf",
   "metadata": {},
   "source": [
    "#### 29. How to round away from zero a float array ? (★☆☆)"
   ]
  },
  {
   "cell_type": "code",
   "execution_count": 30,
   "id": "6ee5777d",
   "metadata": {},
   "outputs": [
    {
     "data": {
      "text/plain": [
       "array([ 2.,  1.,  4., -4.,  1.,  2., -1., -3., -3., -5.])"
      ]
     },
     "execution_count": 30,
     "metadata": {},
     "output_type": "execute_result"
    }
   ],
   "source": [
    "a = np.random.uniform(-5,5,10)\n",
    "np.copysign(np.ceil(np.abs(a)), a)"
   ]
  },
  {
   "cell_type": "markdown",
   "id": "56be1f05",
   "metadata": {},
   "source": [
    "#### 30. How to find common values between two arrays? (★☆☆)"
   ]
  },
  {
   "cell_type": "code",
   "execution_count": 31,
   "id": "62eeedc0",
   "metadata": {},
   "outputs": [
    {
     "data": {
      "text/plain": [
       "array([3, 4, 6, 8, 9])"
      ]
     },
     "execution_count": 31,
     "metadata": {},
     "output_type": "execute_result"
    }
   ],
   "source": [
    "a = np.random.randint(0,10,10)\n",
    "b = np.random.randint(0,10,10)\n",
    "np.intersect1d(a,b)"
   ]
  },
  {
   "cell_type": "markdown",
   "id": "83567c5c",
   "metadata": {},
   "source": [
    "#### 31. How to ignore all numpy warnings (not recommended)? (★☆☆)"
   ]
  },
  {
   "cell_type": "code",
   "execution_count": 32,
   "id": "fa02b423",
   "metadata": {},
   "outputs": [],
   "source": [
    "defaults = np.seterr(all=\"ignore\")"
   ]
  },
  {
   "cell_type": "markdown",
   "id": "0a7449b6",
   "metadata": {},
   "source": [
    "#### 32. Is the following expressions true? (★☆☆)\n",
    "```python\n",
    "np.sqrt(-1) == np.emath.sqrt(-1)\n",
    "```"
   ]
  },
  {
   "cell_type": "code",
   "execution_count": 33,
   "id": "69eb4456",
   "metadata": {},
   "outputs": [
    {
     "data": {
      "text/plain": [
       "False"
      ]
     },
     "execution_count": 33,
     "metadata": {},
     "output_type": "execute_result"
    }
   ],
   "source": [
    "np.sqrt(-1) == np.emath.sqrt(-1)"
   ]
  },
  {
   "cell_type": "markdown",
   "id": "9d434219",
   "metadata": {},
   "source": [
    "#### 33. How to get the dates of yesterday, today and tomorrow? (★☆☆)"
   ]
  },
  {
   "cell_type": "code",
   "execution_count": 34,
   "id": "0b192943",
   "metadata": {},
   "outputs": [
    {
     "data": {
      "text/plain": [
       "(numpy.datetime64('2023-03-31'),\n",
       " numpy.datetime64('2023-04-01'),\n",
       " numpy.datetime64('2023-04-02'))"
      ]
     },
     "execution_count": 34,
     "metadata": {},
     "output_type": "execute_result"
    }
   ],
   "source": [
    "yesterday = np.datetime64('today') - np.timedelta64(1)\n",
    "today     = np.datetime64('today')\n",
    "tomorrow  = np.datetime64('today') + np.timedelta64(1)\n",
    "yesterday, today, tomorrow"
   ]
  },
  {
   "cell_type": "markdown",
   "id": "b0e44339",
   "metadata": {},
   "source": [
    "#### 34. How to get all the dates corresponding to the month of July 2016? (★★☆)"
   ]
  },
  {
   "cell_type": "code",
   "execution_count": 35,
   "id": "8bf7daa6",
   "metadata": {},
   "outputs": [
    {
     "data": {
      "text/plain": [
       "array(['2016-07-01', '2016-07-02', '2016-07-03', '2016-07-04',\n",
       "       '2016-07-05', '2016-07-06', '2016-07-07', '2016-07-08',\n",
       "       '2016-07-09', '2016-07-10', '2016-07-11', '2016-07-12',\n",
       "       '2016-07-13', '2016-07-14', '2016-07-15', '2016-07-16',\n",
       "       '2016-07-17', '2016-07-18', '2016-07-19', '2016-07-20',\n",
       "       '2016-07-21', '2016-07-22', '2016-07-23', '2016-07-24',\n",
       "       '2016-07-25', '2016-07-26', '2016-07-27', '2016-07-28',\n",
       "       '2016-07-29', '2016-07-30', '2016-07-31'], dtype='datetime64[D]')"
      ]
     },
     "execution_count": 35,
     "metadata": {},
     "output_type": "execute_result"
    }
   ],
   "source": [
    "np.arange('2016-07-01', '2016-08-01', dtype='datetime64[D]')"
   ]
  },
  {
   "cell_type": "markdown",
   "id": "f9b3c24a",
   "metadata": {},
   "source": [
    "#### 35. How to compute ((A+B)*(-A/2)) in place (without copy)? (★★☆)"
   ]
  },
  {
   "cell_type": "code",
   "execution_count": 36,
   "id": "40da18c9",
   "metadata": {},
   "outputs": [
    {
     "data": {
      "text/plain": [
       "array([-1.5, -5. ])"
      ]
     },
     "execution_count": 36,
     "metadata": {},
     "output_type": "execute_result"
    }
   ],
   "source": [
    "a = np.arange(1., 3.)\n",
    "b = np.arange(2., 4.)\n",
    "np.add(a,b,out=b)\n",
    "np.divide(a,2,out=a)\n",
    "np.negative(a,out=a)\n",
    "np.multiply(a,b,out=a)\n",
    "a"
   ]
  },
  {
   "cell_type": "markdown",
   "id": "cbb64ee9",
   "metadata": {},
   "source": [
    "#### 36. Extract the integer part of a random array of positive numbers using 4 different methods (★★☆)"
   ]
  },
  {
   "cell_type": "code",
   "execution_count": 37,
   "id": "f83748bd",
   "metadata": {},
   "outputs": [
    {
     "name": "stdout",
     "output_type": "stream",
     "text": [
      "[[1. 6. 0.]\n",
      " [4. 0. 9.]\n",
      " [3. 0. 7.]]\n",
      "\n",
      "[[1. 6. 0.]\n",
      " [4. 0. 9.]\n",
      " [3. 0. 7.]]\n",
      "\n",
      "[[1 6 0]\n",
      " [4 0 9]\n",
      " [3 0 7]]\n",
      "\n",
      "[[1. 6. 0.]\n",
      " [4. 0. 9.]\n",
      " [3. 0. 7.]]\n"
     ]
    }
   ],
   "source": [
    "a = np.random.random((3, 3)) * 10\n",
    "\n",
    "print(\n",
    "    a // 1,\n",
    "    np.floor(a),\n",
    "    a.astype(int),\n",
    "    np.trunc(a),\n",
    "    sep=\"\\n\\n\"\n",
    ")"
   ]
  },
  {
   "cell_type": "markdown",
   "id": "8418e1e4",
   "metadata": {},
   "source": [
    "#### 37. Create a 5x5 matrix with row values ranging from 0 to 4 (★★☆)"
   ]
  },
  {
   "cell_type": "code",
   "execution_count": 38,
   "id": "08e726e4",
   "metadata": {},
   "outputs": [
    {
     "data": {
      "text/plain": [
       "array([[0, 1, 2, 3, 4],\n",
       "       [0, 1, 2, 3, 4],\n",
       "       [0, 1, 2, 3, 4],\n",
       "       [0, 1, 2, 3, 4],\n",
       "       [0, 1, 2, 3, 4]])"
      ]
     },
     "execution_count": 38,
     "metadata": {},
     "output_type": "execute_result"
    }
   ],
   "source": [
    "np.tile(np.arange(0, 5), (5, 1))"
   ]
  },
  {
   "cell_type": "markdown",
   "id": "a8420e2c",
   "metadata": {},
   "source": [
    "#### 38. Consider a generator function that generates 10 integers and use it to build an array (★☆☆)"
   ]
  },
  {
   "cell_type": "code",
   "execution_count": 39,
   "id": "c58e77ad",
   "metadata": {},
   "outputs": [
    {
     "data": {
      "text/plain": [
       "array([0., 1., 2., 3., 4., 5., 6., 7., 8., 9.])"
      ]
     },
     "execution_count": 39,
     "metadata": {},
     "output_type": "execute_result"
    }
   ],
   "source": [
    "def generate():\n",
    "    for x in range(10):\n",
    "        yield x\n",
    "\n",
    "np.fromiter(generate(),dtype=float,count=-1)"
   ]
  },
  {
   "cell_type": "markdown",
   "id": "deab3e77",
   "metadata": {},
   "source": [
    "#### 39. Create a vector of size 10 with values ranging from 0 to 1, both excluded (★★☆)"
   ]
  },
  {
   "cell_type": "code",
   "execution_count": 40,
   "id": "2c5fafc8",
   "metadata": {},
   "outputs": [
    {
     "data": {
      "text/plain": [
       "array([0.09090909, 0.18181818, 0.27272727, 0.36363636, 0.45454545,\n",
       "       0.54545455, 0.63636364, 0.72727273, 0.81818182, 0.90909091])"
      ]
     },
     "execution_count": 40,
     "metadata": {},
     "output_type": "execute_result"
    }
   ],
   "source": [
    "np.linspace(0,1,11,endpoint=False)[1:]"
   ]
  },
  {
   "cell_type": "markdown",
   "id": "5bb5de9c",
   "metadata": {},
   "source": [
    "#### 40. Create a random vector of size 10 and sort it (★★☆)"
   ]
  },
  {
   "cell_type": "code",
   "execution_count": 41,
   "id": "b9916965",
   "metadata": {},
   "outputs": [
    {
     "data": {
      "text/plain": [
       "array([0.01406245, 0.0302187 , 0.30047657, 0.52198229, 0.55318806,\n",
       "       0.55589893, 0.62246997, 0.70219577, 0.77824577, 0.81765775])"
      ]
     },
     "execution_count": 41,
     "metadata": {},
     "output_type": "execute_result"
    }
   ],
   "source": [
    "a = np.random.random(10)\n",
    "a.sort()\n",
    "a"
   ]
  },
  {
   "cell_type": "markdown",
   "id": "ebc8ad64",
   "metadata": {},
   "source": [
    "#### 41. How to sum a small array faster than np.sum? (★★☆)"
   ]
  },
  {
   "cell_type": "code",
   "execution_count": 42,
   "id": "e7ac9923",
   "metadata": {},
   "outputs": [
    {
     "data": {
      "text/plain": [
       "45"
      ]
     },
     "execution_count": 42,
     "metadata": {},
     "output_type": "execute_result"
    }
   ],
   "source": [
    "a = np.arange(10)\n",
    "np.add.reduce(a)"
   ]
  },
  {
   "cell_type": "markdown",
   "id": "4abfb753",
   "metadata": {},
   "source": [
    "#### 42. Consider two random array A and B, check if they are equal (★★☆)"
   ]
  },
  {
   "cell_type": "code",
   "execution_count": 43,
   "id": "d265b5f6",
   "metadata": {},
   "outputs": [
    {
     "data": {
      "text/plain": [
       "False"
      ]
     },
     "execution_count": 43,
     "metadata": {},
     "output_type": "execute_result"
    }
   ],
   "source": [
    "a = np.random.randint(0,2,10)\n",
    "b = np.random.randint(0,2,10)\n",
    "\n",
    "np.array_equal(a,b)"
   ]
  },
  {
   "cell_type": "markdown",
   "id": "c8fad2be",
   "metadata": {},
   "source": [
    "#### 43. Make an array immutable (read-only) (★★☆)"
   ]
  },
  {
   "cell_type": "code",
   "execution_count": 44,
   "id": "cadce095",
   "metadata": {},
   "outputs": [],
   "source": [
    "a = np.arange(1, 10)\n",
    "a.flags.writeable = False"
   ]
  },
  {
   "cell_type": "markdown",
   "id": "91b25fb1",
   "metadata": {},
   "source": [
    "#### 44. Consider a random 10x2 matrix representing cartesian coordinates, convert them to polar coordinates (★★☆)"
   ]
  },
  {
   "cell_type": "code",
   "execution_count": 45,
   "id": "3f5fb344",
   "metadata": {},
   "outputs": [
    {
     "data": {
      "text/plain": [
       "(array([0.70533412, 0.65270926, 1.0112145 , 0.82796721, 0.51958521,\n",
       "        0.90532587, 0.66654971, 0.69524795, 0.63588401, 0.896011  ]),\n",
       " array([0.55519662, 0.17947107, 0.61559277, 1.0231754 , 0.95865393,\n",
       "        1.30535468, 0.70118244, 0.90311464, 1.25006877, 0.27836454]))"
      ]
     },
     "execution_count": 45,
     "metadata": {},
     "output_type": "execute_result"
    }
   ],
   "source": [
    "cart = np.random.random((10,2))\n",
    "x,y = cart[:,0], cart[:,1]\n",
    "np.sqrt(x**2+y**2), np.arctan2(y, x)"
   ]
  },
  {
   "cell_type": "markdown",
   "id": "7e4116bc",
   "metadata": {},
   "source": [
    "#### 45. Create random vector of size 10 and replace the maximum value by 0 (★★☆)"
   ]
  },
  {
   "cell_type": "code",
   "execution_count": 46,
   "id": "b4e895f6",
   "metadata": {},
   "outputs": [
    {
     "data": {
      "text/plain": [
       "array([0.54469886, 0.        , 0.84887156, 0.92014003, 0.90677912,\n",
       "       0.82717141, 0.704314  , 0.89649598, 0.09636898, 0.61792193])"
      ]
     },
     "execution_count": 46,
     "metadata": {},
     "output_type": "execute_result"
    }
   ],
   "source": [
    "a = np.random.random(10)\n",
    "a[a.argmax()] = 0\n",
    "a"
   ]
  },
  {
   "cell_type": "markdown",
   "id": "f5b68c55",
   "metadata": {},
   "source": [
    "#### 46. Create a structured array with `x` and `y` coordinates covering the [0,1]x[0,1] area (★★☆)"
   ]
  },
  {
   "cell_type": "code",
   "execution_count": 47,
   "id": "32fd3691",
   "metadata": {},
   "outputs": [
    {
     "data": {
      "text/plain": [
       "array([[(0.        , 0.        ), (0.11111111, 0.        ),\n",
       "        (0.22222222, 0.        ), (0.33333333, 0.        ),\n",
       "        (0.44444444, 0.        ), (0.55555556, 0.        ),\n",
       "        (0.66666667, 0.        ), (0.77777778, 0.        ),\n",
       "        (0.88888889, 0.        ), (1.        , 0.        )],\n",
       "       [(0.        , 0.11111111), (0.11111111, 0.11111111),\n",
       "        (0.22222222, 0.11111111), (0.33333333, 0.11111111),\n",
       "        (0.44444444, 0.11111111), (0.55555556, 0.11111111),\n",
       "        (0.66666667, 0.11111111), (0.77777778, 0.11111111),\n",
       "        (0.88888889, 0.11111111), (1.        , 0.11111111)],\n",
       "       [(0.        , 0.22222222), (0.11111111, 0.22222222),\n",
       "        (0.22222222, 0.22222222), (0.33333333, 0.22222222),\n",
       "        (0.44444444, 0.22222222), (0.55555556, 0.22222222),\n",
       "        (0.66666667, 0.22222222), (0.77777778, 0.22222222),\n",
       "        (0.88888889, 0.22222222), (1.        , 0.22222222)],\n",
       "       [(0.        , 0.33333333), (0.11111111, 0.33333333),\n",
       "        (0.22222222, 0.33333333), (0.33333333, 0.33333333),\n",
       "        (0.44444444, 0.33333333), (0.55555556, 0.33333333),\n",
       "        (0.66666667, 0.33333333), (0.77777778, 0.33333333),\n",
       "        (0.88888889, 0.33333333), (1.        , 0.33333333)],\n",
       "       [(0.        , 0.44444444), (0.11111111, 0.44444444),\n",
       "        (0.22222222, 0.44444444), (0.33333333, 0.44444444),\n",
       "        (0.44444444, 0.44444444), (0.55555556, 0.44444444),\n",
       "        (0.66666667, 0.44444444), (0.77777778, 0.44444444),\n",
       "        (0.88888889, 0.44444444), (1.        , 0.44444444)],\n",
       "       [(0.        , 0.55555556), (0.11111111, 0.55555556),\n",
       "        (0.22222222, 0.55555556), (0.33333333, 0.55555556),\n",
       "        (0.44444444, 0.55555556), (0.55555556, 0.55555556),\n",
       "        (0.66666667, 0.55555556), (0.77777778, 0.55555556),\n",
       "        (0.88888889, 0.55555556), (1.        , 0.55555556)],\n",
       "       [(0.        , 0.66666667), (0.11111111, 0.66666667),\n",
       "        (0.22222222, 0.66666667), (0.33333333, 0.66666667),\n",
       "        (0.44444444, 0.66666667), (0.55555556, 0.66666667),\n",
       "        (0.66666667, 0.66666667), (0.77777778, 0.66666667),\n",
       "        (0.88888889, 0.66666667), (1.        , 0.66666667)],\n",
       "       [(0.        , 0.77777778), (0.11111111, 0.77777778),\n",
       "        (0.22222222, 0.77777778), (0.33333333, 0.77777778),\n",
       "        (0.44444444, 0.77777778), (0.55555556, 0.77777778),\n",
       "        (0.66666667, 0.77777778), (0.77777778, 0.77777778),\n",
       "        (0.88888889, 0.77777778), (1.        , 0.77777778)],\n",
       "       [(0.        , 0.88888889), (0.11111111, 0.88888889),\n",
       "        (0.22222222, 0.88888889), (0.33333333, 0.88888889),\n",
       "        (0.44444444, 0.88888889), (0.55555556, 0.88888889),\n",
       "        (0.66666667, 0.88888889), (0.77777778, 0.88888889),\n",
       "        (0.88888889, 0.88888889), (1.        , 0.88888889)],\n",
       "       [(0.        , 1.        ), (0.11111111, 1.        ),\n",
       "        (0.22222222, 1.        ), (0.33333333, 1.        ),\n",
       "        (0.44444444, 1.        ), (0.55555556, 1.        ),\n",
       "        (0.66666667, 1.        ), (0.77777778, 1.        ),\n",
       "        (0.88888889, 1.        ), (1.        , 1.        )]],\n",
       "      dtype=[('x', '<f8'), ('y', '<f8')])"
      ]
     },
     "execution_count": 47,
     "metadata": {},
     "output_type": "execute_result"
    }
   ],
   "source": [
    "xy = np.dtype([(\"x\", np.float64), (\"y\", np.float64)])\n",
    "a = np.zeros((10, 10), dtype=xy)\n",
    "a['x'], a['y'] = np.meshgrid(np.linspace(0,1,10), np.linspace(0,1,10))\n",
    "a"
   ]
  },
  {
   "cell_type": "markdown",
   "id": "378bc4e9",
   "metadata": {},
   "source": [
    "#### 47. Given two arrays, X and Y, construct the Cauchy matrix C (Cij =1/(xi - yj)) (★★☆)"
   ]
  },
  {
   "cell_type": "code",
   "execution_count": 48,
   "id": "43282e51",
   "metadata": {},
   "outputs": [
    {
     "data": {
      "text/plain": [
       "2.1097241595210925e+17"
      ]
     },
     "execution_count": 48,
     "metadata": {},
     "output_type": "execute_result"
    }
   ],
   "source": [
    "a, b = np.arange(8), np.arange(8)\n",
    "c = 1.0 / np.subtract.outer(x, y)\n",
    "np.linalg.det(c)"
   ]
  },
  {
   "cell_type": "markdown",
   "id": "7f45d2f9",
   "metadata": {},
   "source": [
    "#### 48. Print the minimum and maximum representable value for each numpy scalar type (★★☆)"
   ]
  },
  {
   "cell_type": "code",
   "execution_count": 49,
   "id": "a7f37b9e",
   "metadata": {},
   "outputs": [
    {
     "name": "stdout",
     "output_type": "stream",
     "text": [
      "-128\n",
      "127\n",
      "-32768\n",
      "32767\n",
      "-2147483648\n",
      "2147483647\n",
      "-9223372036854775808\n",
      "9223372036854775807\n",
      "-65500.0\n",
      "65500.0\n",
      "0.000977\n",
      "-3.4028235e+38\n",
      "3.4028235e+38\n",
      "1.1920929e-07\n",
      "-1.7976931348623157e+308\n",
      "1.7976931348623157e+308\n",
      "2.220446049250313e-16\n",
      "-1.189731495357231765e+4932\n",
      "1.189731495357231765e+4932\n",
      "1.084202172485504434e-19\n"
     ]
    }
   ],
   "source": [
    "for dtype in [np.int8, np.int16, np.int32, np.int64]:\n",
    "   print(np.iinfo(dtype).min)\n",
    "   print(np.iinfo(dtype).max)\n",
    "for dtype in [np.float16, np.float32, np.float64, np.float128]:\n",
    "   print(np.finfo(dtype).min)\n",
    "   print(np.finfo(dtype).max)\n",
    "   print(np.finfo(dtype).eps)"
   ]
  },
  {
   "cell_type": "markdown",
   "id": "1d269f07",
   "metadata": {},
   "source": [
    "#### 49. How to print all the values of an array? (★★☆)"
   ]
  },
  {
   "cell_type": "code",
   "execution_count": 50,
   "id": "fde90b07",
   "metadata": {},
   "outputs": [
    {
     "data": {
      "text/plain": [
       "array([0, 1, 2, 3, 4, 5, 6, 7])"
      ]
     },
     "execution_count": 50,
     "metadata": {},
     "output_type": "execute_result"
    }
   ],
   "source": [
    "a"
   ]
  },
  {
   "cell_type": "markdown",
   "id": "ed655678",
   "metadata": {},
   "source": [
    "#### 50. How to find the closest value (to a given scalar) in a vector? (★★☆)"
   ]
  },
  {
   "cell_type": "code",
   "execution_count": 51,
   "id": "55e0812f",
   "metadata": {},
   "outputs": [
    {
     "data": {
      "text/plain": [
       "(0.5015194181887432, 0.5118001257823209)"
      ]
     },
     "execution_count": 51,
     "metadata": {},
     "output_type": "execute_result"
    }
   ],
   "source": [
    "a = np.random.random(10)\n",
    "b = np.random.random(10)\n",
    "idx = (np.abs(a - b)).argmin()\n",
    "a[idx], b[idx]"
   ]
  },
  {
   "cell_type": "markdown",
   "id": "3f73f88f",
   "metadata": {},
   "source": [
    "#### 51. Create a structured array representing a position (x,y) and a color (r,g,b) (★★☆)"
   ]
  },
  {
   "cell_type": "code",
   "execution_count": 52,
   "id": "74b51105",
   "metadata": {},
   "outputs": [
    {
     "name": "stderr",
     "output_type": "stream",
     "text": [
      "/var/folders/_c/2vztvhm558dd_36p09zpg5nc0000gn/T/ipykernel_2847/3274034747.py:1: FutureWarning: Passing (type, 1) or '1type' as a synonym of type is deprecated; in a future version of numpy, it will be understood as (type, (1,)) / '(1,)type'.\n",
      "  a = np.zeros(10, [\n"
     ]
    },
    {
     "data": {
      "text/plain": [
       "array([((0., 0.), (0., 0., 0.)), ((0., 0.), (0., 0., 0.)),\n",
       "       ((0., 0.), (0., 0., 0.)), ((0., 0.), (0., 0., 0.)),\n",
       "       ((0., 0.), (0., 0., 0.)), ((0., 0.), (0., 0., 0.)),\n",
       "       ((0., 0.), (0., 0., 0.)), ((0., 0.), (0., 0., 0.)),\n",
       "       ((0., 0.), (0., 0., 0.)), ((0., 0.), (0., 0., 0.))],\n",
       "      dtype=[('position', [('x', '<f8'), ('y', '<f8')]), ('color', [('r', '<f8'), ('g', '<f8'), ('b', '<f8')])])"
      ]
     },
     "execution_count": 52,
     "metadata": {},
     "output_type": "execute_result"
    }
   ],
   "source": [
    "a = np.zeros(10, [ \n",
    "    ('position', [ ('x', float, 1),\n",
    "                   ('y', float, 1)]),\n",
    "    ('color',    [ ('r', float, 1),\n",
    "                   ('g', float, 1),\n",
    "                   ('b', float, 1)])])\n",
    "a"
   ]
  },
  {
   "cell_type": "markdown",
   "id": "db83eee0",
   "metadata": {},
   "source": [
    "#### 52. Consider a random vector with shape (100,2) representing coordinates, find point by point distances (★★☆)"
   ]
  },
  {
   "cell_type": "code",
   "execution_count": 53,
   "id": "10884922",
   "metadata": {},
   "outputs": [
    {
     "data": {
      "text/plain": [
       "array([[0.        , 0.35331054, 0.46560403, 0.40585252, 0.59948358,\n",
       "        0.68877825, 0.57594528, 0.29398985, 0.5488333 , 0.39957648],\n",
       "       [0.35331054, 0.        , 0.12655631, 0.62888297, 0.29206743,\n",
       "        0.3559664 , 0.39067333, 0.56218619, 0.48414734, 0.35264545],\n",
       "       [0.46560403, 0.12655631, 0.        , 0.75504245, 0.28789281,\n",
       "        0.3114293 , 0.31770875, 0.63715073, 0.45198136, 0.35159732],\n",
       "       [0.40585252, 0.62888297, 0.75504245, 0.        , 0.73568285,\n",
       "        0.84569458, 0.95620828, 0.63098479, 0.95244981, 0.80035493],\n",
       "       [0.59948358, 0.29206743, 0.28789281, 0.73568285, 0.        ,\n",
       "        0.11047252, 0.60002696, 0.84596967, 0.73951231, 0.62925003],\n",
       "       [0.68877825, 0.3559664 , 0.3114293 , 0.84569458, 0.11047252,\n",
       "        0.        , 0.59775894, 0.91813263, 0.7552239 , 0.66302621],\n",
       "       [0.57594528, 0.39067333, 0.31770875, 0.95620828, 0.60002696,\n",
       "        0.59775894, 0.        , 0.59265802, 0.18464725, 0.21051331],\n",
       "       [0.29398985, 0.56218619, 0.63715073, 0.63098479, 0.84596967,\n",
       "        0.91813263, 0.59265802, 0.        , 0.47524577, 0.38239798],\n",
       "       [0.5488333 , 0.48414734, 0.45198136, 0.95244981, 0.73951231,\n",
       "        0.7552239 , 0.18464725, 0.47524577, 0.        , 0.15460942],\n",
       "       [0.39957648, 0.35264545, 0.35159732, 0.80035493, 0.62925003,\n",
       "        0.66302621, 0.21051331, 0.38239798, 0.15460942, 0.        ]])"
      ]
     },
     "execution_count": 53,
     "metadata": {},
     "output_type": "execute_result"
    }
   ],
   "source": [
    "import scipy.spatial\n",
    "\n",
    "a = np.random.random((10,2))\n",
    "d = scipy.spatial.distance.cdist(a, a)\n",
    "\n",
    "d"
   ]
  },
  {
   "cell_type": "markdown",
   "id": "b90e0bb2",
   "metadata": {},
   "source": [
    "#### 53. How to convert a float (32 bits) array into an integer (32 bits) in place?"
   ]
  },
  {
   "cell_type": "code",
   "execution_count": 54,
   "id": "db97ea05",
   "metadata": {},
   "outputs": [
    {
     "data": {
      "text/plain": [
       "(array([1083886433, 1082101779, 1080007866, 1092211156, 1091291271,\n",
       "        1088065604, 1062111554, 1074320885, 1061717875, 1083809230],\n",
       "       dtype=int32),\n",
       " 'OR',\n",
       " array([4, 3, 3, 9, 8, 6, 0, 2, 0, 4], dtype=int32))"
      ]
     },
     "execution_count": 54,
     "metadata": {},
     "output_type": "execute_result"
    }
   ],
   "source": [
    "a = (np.random.random(10) * 10).astype(np.float32)\n",
    "a.view(np.int32), \"OR\", a.astype(np.int32)"
   ]
  },
  {
   "cell_type": "markdown",
   "id": "0d1b021c",
   "metadata": {},
   "source": [
    "#### 54. How to read the following file? (★★☆)\n",
    "```\n",
    "1, 2, 3, 4, 5\n",
    "6,  ,  , 7, 8\n",
    " ,  , 9,10,11\n",
    "```"
   ]
  },
  {
   "cell_type": "code",
   "execution_count": 55,
   "id": "9551928e",
   "metadata": {},
   "outputs": [
    {
     "name": "stdout",
     "output_type": "stream",
     "text": [
      "[[ 1  2  3  4  5]\n",
      " [ 6 -1 -1  7  8]\n",
      " [-1 -1  9 10 11]]\n"
     ]
    }
   ],
   "source": [
    "from io import StringIO\n",
    "\n",
    "s = StringIO('''1, 2, 3, 4, 5\n",
    "                6,  ,  , 7, 8\n",
    "                 ,  , 9,10,11\n",
    "            ''')\n",
    "a = np.genfromtxt(s, delimiter=\",\", dtype=np.int32)\n",
    "print(a)"
   ]
  },
  {
   "cell_type": "markdown",
   "id": "56928772",
   "metadata": {},
   "source": [
    "#### 55. What is the equivalent of enumerate for numpy arrays? (★★☆)"
   ]
  },
  {
   "cell_type": "code",
   "execution_count": 56,
   "id": "327d9b88",
   "metadata": {},
   "outputs": [
    {
     "name": "stdout",
     "output_type": "stream",
     "text": [
      "(0, 0) 0\n",
      "(0, 1) 1\n",
      "(0, 2) 2\n",
      "(0, 3) 3\n",
      "(0, 4) 4\n",
      "(1, 0) 5\n",
      "(1, 1) 6\n",
      "(1, 2) 7\n",
      "(1, 3) 8\n",
      "(1, 4) 9\n"
     ]
    }
   ],
   "source": [
    "a = np.arange(10).reshape(2,5)\n",
    "for index, value in np.ndenumerate(a):\n",
    "    print(index, value)"
   ]
  },
  {
   "cell_type": "markdown",
   "id": "257e0bac",
   "metadata": {},
   "source": [
    "#### 56. Generate a generic 2D Gaussian-like array (★★☆)"
   ]
  },
  {
   "cell_type": "code",
   "execution_count": 57,
   "id": "1325d664",
   "metadata": {},
   "outputs": [
    {
     "data": {
      "text/plain": [
       "array([[0.36787944, 0.44822088, 0.51979489, 0.57375342, 0.60279818,\n",
       "        0.60279818, 0.57375342, 0.51979489, 0.44822088, 0.36787944],\n",
       "       [0.44822088, 0.54610814, 0.63331324, 0.69905581, 0.73444367,\n",
       "        0.73444367, 0.69905581, 0.63331324, 0.54610814, 0.44822088],\n",
       "       [0.51979489, 0.63331324, 0.73444367, 0.81068432, 0.85172308,\n",
       "        0.85172308, 0.81068432, 0.73444367, 0.63331324, 0.51979489],\n",
       "       [0.57375342, 0.69905581, 0.81068432, 0.89483932, 0.9401382 ,\n",
       "        0.9401382 , 0.89483932, 0.81068432, 0.69905581, 0.57375342],\n",
       "       [0.60279818, 0.73444367, 0.85172308, 0.9401382 , 0.98773022,\n",
       "        0.98773022, 0.9401382 , 0.85172308, 0.73444367, 0.60279818],\n",
       "       [0.60279818, 0.73444367, 0.85172308, 0.9401382 , 0.98773022,\n",
       "        0.98773022, 0.9401382 , 0.85172308, 0.73444367, 0.60279818],\n",
       "       [0.57375342, 0.69905581, 0.81068432, 0.89483932, 0.9401382 ,\n",
       "        0.9401382 , 0.89483932, 0.81068432, 0.69905581, 0.57375342],\n",
       "       [0.51979489, 0.63331324, 0.73444367, 0.81068432, 0.85172308,\n",
       "        0.85172308, 0.81068432, 0.73444367, 0.63331324, 0.51979489],\n",
       "       [0.44822088, 0.54610814, 0.63331324, 0.69905581, 0.73444367,\n",
       "        0.73444367, 0.69905581, 0.63331324, 0.54610814, 0.44822088],\n",
       "       [0.36787944, 0.44822088, 0.51979489, 0.57375342, 0.60279818,\n",
       "        0.60279818, 0.57375342, 0.51979489, 0.44822088, 0.36787944]])"
      ]
     },
     "execution_count": 57,
     "metadata": {},
     "output_type": "execute_result"
    }
   ],
   "source": [
    "x, y = np.meshgrid(np.linspace(-1,1,10), np.linspace(-1,1,10))\n",
    "d = np.sqrt(x*x+y*y)\n",
    "sigma, mu = 1.0, 0.0\n",
    "g = np.exp(-( (d-mu)**2 / ( 2.0 * sigma**2 ) ) )\n",
    "g"
   ]
  },
  {
   "cell_type": "markdown",
   "id": "441347ee",
   "metadata": {},
   "source": [
    "#### 57. How to randomly place p elements in a 2D array? (★★☆)"
   ]
  },
  {
   "cell_type": "code",
   "execution_count": 58,
   "id": "1e61fce5",
   "metadata": {},
   "outputs": [
    {
     "data": {
      "text/plain": [
       "array([[0., 0., 0., 0., 0., 0., 0., 0., 0., 0.],\n",
       "       [0., 0., 0., 0., 0., 0., 0., 0., 0., 0.],\n",
       "       [0., 0., 0., 0., 0., 0., 0., 0., 0., 1.],\n",
       "       [0., 0., 0., 0., 0., 0., 0., 0., 0., 0.],\n",
       "       [0., 0., 0., 0., 0., 0., 0., 1., 0., 0.],\n",
       "       [1., 0., 0., 0., 0., 1., 0., 0., 0., 0.],\n",
       "       [0., 0., 0., 0., 1., 0., 0., 0., 0., 0.],\n",
       "       [0., 0., 0., 0., 1., 0., 1., 0., 0., 0.],\n",
       "       [0., 0., 0., 0., 0., 0., 0., 0., 0., 0.],\n",
       "       [0., 1., 0., 0., 0., 0., 0., 0., 1., 1.]])"
      ]
     },
     "execution_count": 58,
     "metadata": {},
     "output_type": "execute_result"
    }
   ],
   "source": [
    "p = 10\n",
    "a = np.zeros((10, 10))\n",
    "np.put(a, np.random.choice(range(100), p, replace=False), 1)\n",
    "a"
   ]
  },
  {
   "cell_type": "markdown",
   "id": "8a76af52",
   "metadata": {},
   "source": [
    "#### 58. Subtract the mean of each row of a matrix (★★☆)"
   ]
  },
  {
   "cell_type": "code",
   "execution_count": 59,
   "id": "65cf18e9",
   "metadata": {},
   "outputs": [
    {
     "data": {
      "text/plain": [
       "(array([[0.85694311, 0.33810889, 0.48904161],\n",
       "        [0.4820412 , 0.57970176, 0.77282994]]),\n",
       " array([[ 0.29557858, -0.22325565, -0.07232293],\n",
       "        [-0.1294831 , -0.03182254,  0.16130564]]))"
      ]
     },
     "execution_count": 59,
     "metadata": {},
     "output_type": "execute_result"
    }
   ],
   "source": [
    "a = np.random.random((2, 3))\n",
    "o = a - a.mean(axis=1, keepdims=True)\n",
    "a, o"
   ]
  },
  {
   "cell_type": "markdown",
   "id": "d2dc8b5f",
   "metadata": {},
   "source": [
    "#### 59. How to sort an array by the nth column? (★★☆)"
   ]
  },
  {
   "cell_type": "code",
   "execution_count": 60,
   "id": "83b5eafe",
   "metadata": {},
   "outputs": [
    {
     "data": {
      "text/plain": [
       "array([[4, 0, 1, 8],\n",
       "       [9, 1, 1, 7],\n",
       "       [7, 6, 7, 7],\n",
       "       [1, 8, 5, 6]])"
      ]
     },
     "execution_count": 60,
     "metadata": {},
     "output_type": "execute_result"
    }
   ],
   "source": [
    "a = np.random.randint(0, 10, (4, 4))\n",
    "a[a[:,1].argsort()]"
   ]
  },
  {
   "cell_type": "markdown",
   "id": "4886f74e",
   "metadata": {},
   "source": [
    "#### 60. How to tell if a given 2D array has null columns? (★★☆)"
   ]
  },
  {
   "cell_type": "code",
   "execution_count": 61,
   "id": "7a066dd9",
   "metadata": {},
   "outputs": [
    {
     "data": {
      "text/plain": [
       "array([False, False, False, False, False])"
      ]
     },
     "execution_count": 61,
     "metadata": {},
     "output_type": "execute_result"
    }
   ],
   "source": [
    "a = np.random.randint(0, 10, (5, 5))\n",
    "np.isnan(a).all(axis=0)"
   ]
  },
  {
   "cell_type": "markdown",
   "id": "1f5ad2a9",
   "metadata": {},
   "source": [
    "#### 61. Find the nearest value from a given value in an array (★★☆)"
   ]
  },
  {
   "cell_type": "code",
   "execution_count": 62,
   "id": "f53df167",
   "metadata": {},
   "outputs": [
    {
     "data": {
      "text/plain": [
       "0.35000000000000003"
      ]
     },
     "execution_count": 62,
     "metadata": {},
     "output_type": "execute_result"
    }
   ],
   "source": [
    "a = np.arange(0, 1, 0.01)\n",
    "v = 0.353\n",
    "a.flat[np.abs(a - v).argmin()]"
   ]
  },
  {
   "cell_type": "markdown",
   "id": "aa48f9b2",
   "metadata": {},
   "source": [
    "#### 62. Considering two arrays with shape (1,3) and (3,1), how to compute their sum using an iterator? (★★☆)"
   ]
  },
  {
   "cell_type": "code",
   "execution_count": 63,
   "id": "68987301",
   "metadata": {},
   "outputs": [
    {
     "data": {
      "text/plain": [
       "array([[0, 1, 2],\n",
       "       [1, 2, 3],\n",
       "       [2, 3, 4]])"
      ]
     },
     "execution_count": 63,
     "metadata": {},
     "output_type": "execute_result"
    }
   ],
   "source": [
    "a = np.arange(3).reshape(3,1)\n",
    "b = np.arange(3).reshape(1,3)\n",
    "it = np.nditer([a, b, None])\n",
    "for x,y,z in it: z[...] = x + y\n",
    "it.operands[2]"
   ]
  },
  {
   "cell_type": "markdown",
   "id": "0bed1516",
   "metadata": {},
   "source": [
    "#### 63. Create an array class that has a name attribute (★★☆)"
   ]
  },
  {
   "cell_type": "code",
   "execution_count": 64,
   "id": "fa1d52fc",
   "metadata": {},
   "outputs": [
    {
     "data": {
      "text/plain": [
       "'ranged'"
      ]
     },
     "execution_count": 64,
     "metadata": {},
     "output_type": "execute_result"
    }
   ],
   "source": [
    "class NamedArray(np.ndarray):\n",
    "    def __new__(cls, array, name=\"blank\"):\n",
    "        obj = np.asarray(array).view(cls)\n",
    "        obj.name = name\n",
    "        return obj\n",
    "    def __array_finalize__(self, obj):\n",
    "        self.name = getattr(obj, 'name', \"blank\")\n",
    "\n",
    "a = NamedArray(np.arange(10), \"ranged\")\n",
    "a.name"
   ]
  },
  {
   "cell_type": "markdown",
   "id": "463a40bb",
   "metadata": {},
   "source": [
    "#### 64. Consider a given vector, how to add 1 to each element indexed by a second vector (be careful with repeated indices)? (★★★)"
   ]
  },
  {
   "cell_type": "code",
   "execution_count": 65,
   "id": "cdb2cad0",
   "metadata": {},
   "outputs": [
    {
     "data": {
      "text/plain": [
       "array([2., 1., 4., 4., 1., 1., 2., 3., 1., 1.])"
      ]
     },
     "execution_count": 65,
     "metadata": {},
     "output_type": "execute_result"
    }
   ],
   "source": [
    "a = np.ones(10)\n",
    "\n",
    "np.add.at(a, np.random.randint(0, np.size(a), 10), 1)\n",
    "a"
   ]
  },
  {
   "cell_type": "markdown",
   "id": "2a2f8219",
   "metadata": {},
   "source": [
    "#### 65. How to accumulate elements of a vector (X) to an array (F) based on an index list (I)? (★★★)"
   ]
  },
  {
   "cell_type": "code",
   "execution_count": 66,
   "id": "9cc34a77",
   "metadata": {},
   "outputs": [
    {
     "data": {
      "text/plain": [
       "array([0., 1., 3., 9., 3., 4., 1.])"
      ]
     },
     "execution_count": 66,
     "metadata": {},
     "output_type": "execute_result"
    }
   ],
   "source": [
    "a = [1,2,3,4,5,6]\n",
    "b = [1,3,9,3,4,1]\n",
    "o = np.bincount(a, b)\n",
    "o"
   ]
  },
  {
   "cell_type": "markdown",
   "id": "6a6a3c66",
   "metadata": {},
   "source": [
    "#### 66. Considering a (w,h,3) image of (dtype=ubyte), compute the number of unique colors (★★☆)"
   ]
  },
  {
   "cell_type": "code",
   "execution_count": 67,
   "id": "c88f5a5e",
   "metadata": {},
   "outputs": [
    {
     "data": {
      "text/plain": [
       "64"
      ]
     },
     "execution_count": 67,
     "metadata": {},
     "output_type": "execute_result"
    }
   ],
   "source": [
    "w, h = 256, 256\n",
    "i = np.random.randint(0, 4, (h, w, 3)).astype(np.ubyte)\n",
    "colors = np.unique(i.reshape(-1, 3), axis=0)\n",
    "len(colors)"
   ]
  },
  {
   "cell_type": "markdown",
   "id": "4b030baa",
   "metadata": {},
   "source": [
    "#### 67. Considering a four dimensions array, how to get sum over the last two axis at once? (★★★)"
   ]
  },
  {
   "cell_type": "code",
   "execution_count": 68,
   "id": "cd2e7c9c",
   "metadata": {},
   "outputs": [
    {
     "data": {
      "text/plain": [
       "array([[67, 61, 70, 59],\n",
       "       [65, 78, 81, 63],\n",
       "       [61, 73, 58, 79],\n",
       "       [91, 76, 98, 85]])"
      ]
     },
     "execution_count": 68,
     "metadata": {},
     "output_type": "execute_result"
    }
   ],
   "source": [
    "a = np.random.randint(0,10,(4, 4, 4, 4))\n",
    "a.sum(axis=(-2,-1))"
   ]
  },
  {
   "cell_type": "markdown",
   "id": "1fa6053b",
   "metadata": {},
   "source": [
    "#### 68. Considering a one-dimensional vector D, how to compute means of subsets of D using a vector S of same size describing subset  indices? (★★★)"
   ]
  },
  {
   "cell_type": "code",
   "execution_count": 69,
   "id": "9b5a070d",
   "metadata": {},
   "outputs": [
    {
     "data": {
      "text/plain": [
       "array([0.53504993, 0.48424153, 0.43144464, 0.58004812, 0.61725691,\n",
       "       0.49000265, 0.47647585, 0.52320623, 0.73188868, 0.2649559 ])"
      ]
     },
     "execution_count": 69,
     "metadata": {},
     "output_type": "execute_result"
    }
   ],
   "source": [
    "d = np.random.uniform(0, 1, 100)\n",
    "s = np.random.randint(0, 10, 100)\n",
    "sums = np.bincount(s, weights=d)\n",
    "counts = np.bincount(s)\n",
    "means = sums / counts\n",
    "means"
   ]
  },
  {
   "cell_type": "markdown",
   "id": "2e7b0395",
   "metadata": {},
   "source": [
    "#### 69. How to get the diagonal of a dot product? (★★★)"
   ]
  },
  {
   "cell_type": "code",
   "execution_count": 70,
   "id": "ae437196",
   "metadata": {},
   "outputs": [
    {
     "data": {
      "text/plain": [
       "array([0.92269603, 0.46471057, 1.02404186, 1.45551999, 0.90358976])"
      ]
     },
     "execution_count": 70,
     "metadata": {},
     "output_type": "execute_result"
    }
   ],
   "source": [
    "a = np.random.uniform(0, 1, (5,5))\n",
    "b = np.random.uniform(0, 1, (5,5))\n",
    "\n",
    "np.diag(np.dot(a, b))"
   ]
  },
  {
   "cell_type": "markdown",
   "id": "2bf2f8e4",
   "metadata": {},
   "source": [
    "#### 70. Consider the vector [1, 2, 3, 4, 5], how to build a new vector with 3 consecutive zeros interleaved between each value? (★★★)"
   ]
  },
  {
   "cell_type": "code",
   "execution_count": 71,
   "id": "8a427342",
   "metadata": {},
   "outputs": [
    {
     "data": {
      "text/plain": [
       "array([1., 0., 0., 0., 2., 0., 0., 0., 3., 0., 0., 0., 4., 0., 0., 0., 5.])"
      ]
     },
     "execution_count": 71,
     "metadata": {},
     "output_type": "execute_result"
    }
   ],
   "source": [
    "a = np.arange(1, 6)\n",
    "target = 3\n",
    "o = np.zeros(len(a) + (len(a)-1)*(target))\n",
    "o[::target+1] = a\n",
    "o"
   ]
  },
  {
   "cell_type": "markdown",
   "id": "fff802ea",
   "metadata": {},
   "source": [
    "#### 71. Consider an array of dimension (5,5,3), how to mulitply it by an array with dimensions (5,5)? (★★★)"
   ]
  },
  {
   "cell_type": "code",
   "execution_count": 72,
   "id": "e83ab7b5",
   "metadata": {},
   "outputs": [
    {
     "name": "stdout",
     "output_type": "stream",
     "text": [
      "[[[4. 4. 4.]\n",
      "  [4. 4. 4.]\n",
      "  [4. 4. 4.]\n",
      "  [4. 4. 4.]\n",
      "  [4. 4. 4.]]\n",
      "\n",
      " [[4. 4. 4.]\n",
      "  [4. 4. 4.]\n",
      "  [4. 4. 4.]\n",
      "  [4. 4. 4.]\n",
      "  [4. 4. 4.]]\n",
      "\n",
      " [[4. 4. 4.]\n",
      "  [4. 4. 4.]\n",
      "  [4. 4. 4.]\n",
      "  [4. 4. 4.]\n",
      "  [4. 4. 4.]]\n",
      "\n",
      " [[4. 4. 4.]\n",
      "  [4. 4. 4.]\n",
      "  [4. 4. 4.]\n",
      "  [4. 4. 4.]\n",
      "  [4. 4. 4.]]\n",
      "\n",
      " [[4. 4. 4.]\n",
      "  [4. 4. 4.]\n",
      "  [4. 4. 4.]\n",
      "  [4. 4. 4.]\n",
      "  [4. 4. 4.]]]\n"
     ]
    }
   ],
   "source": [
    "a = np.ones((5,5,3))\n",
    "b = 4 * np.ones((5,5))\n",
    "print(a * b[:,:,None])"
   ]
  },
  {
   "cell_type": "markdown",
   "id": "a0865c04",
   "metadata": {},
   "source": [
    "#### 72. How to swap two rows of an array? (★★★)"
   ]
  },
  {
   "cell_type": "code",
   "execution_count": 73,
   "id": "bb510428",
   "metadata": {},
   "outputs": [
    {
     "data": {
      "text/plain": [
       "array([[5, 6, 7, 8, 9],\n",
       "       [0, 1, 2, 3, 4]])"
      ]
     },
     "execution_count": 73,
     "metadata": {},
     "output_type": "execute_result"
    }
   ],
   "source": [
    "a = np.arange(0, 10, 1).reshape(2,5)\n",
    "a[[0,1]] = a[[1,0]]\n",
    "a"
   ]
  },
  {
   "cell_type": "markdown",
   "id": "52beda8d",
   "metadata": {},
   "source": [
    "#### 73. Consider a set of 10 triplets describing 10 triangles (with shared vertices), find the set of unique line segments composing all the  triangles (★★★)"
   ]
  },
  {
   "cell_type": "code",
   "execution_count": 74,
   "id": "5b9895de",
   "metadata": {},
   "outputs": [
    {
     "data": {
      "text/plain": [
       "array([( 1,  1), ( 1, 91), ( 6, 35), ( 6, 43), ( 6, 92), (12, 82),\n",
       "       (12, 87), (15, 40), (15, 63), (15, 65), (30, 57), (30, 76),\n",
       "       (33, 76), (33, 88), (35, 43), (35, 92), (38, 57), (38, 65),\n",
       "       (40, 65), (44, 71), (44, 91), (57, 65), (57, 76), (63, 63),\n",
       "       (71, 91), (76, 88), (82, 87)], dtype=[('p0', '<i8'), ('p1', '<i8')])"
      ]
     },
     "execution_count": 74,
     "metadata": {},
     "output_type": "execute_result"
    }
   ],
   "source": [
    "faces = np.random.randint(0, 100, (10,3))\n",
    "f = np.roll(faces.repeat(2, axis=1), -1, axis=1)\n",
    "f = f.reshape(len(f) * 3, 2)\n",
    "f = np.sort(f, axis=1)\n",
    "np.unique(f.view( dtype=[('p0',f.dtype),('p1',f.dtype)]))"
   ]
  },
  {
   "cell_type": "markdown",
   "id": "b1f8e571",
   "metadata": {},
   "source": [
    "#### 74. Given a sorted array C that corresponds to a bincount, how to produce an array A such that np.bincount(A) == C? (★★★)"
   ]
  },
  {
   "cell_type": "code",
   "execution_count": 75,
   "id": "ea6d42e9",
   "metadata": {},
   "outputs": [
    {
     "data": {
      "text/plain": [
       "array([1, 1, 2, 3, 4, 4, 6])"
      ]
     },
     "execution_count": 75,
     "metadata": {},
     "output_type": "execute_result"
    }
   ],
   "source": [
    "c = np.bincount([1,1,2,3,4,4,6])\n",
    "a = np.repeat(np.arange(len(c)), c)\n",
    "a"
   ]
  },
  {
   "cell_type": "markdown",
   "id": "db1ed658",
   "metadata": {},
   "source": [
    "#### 75. How to compute averages using a sliding window over an array? (★★★)"
   ]
  },
  {
   "cell_type": "code",
   "execution_count": 76,
   "id": "9dc6a98a",
   "metadata": {},
   "outputs": [
    {
     "data": {
      "text/plain": [
       "array([ 1.5,  2.5,  3.5,  4.5,  5.5,  6.5,  7.5,  8.5,  9.5, 10.5, 11.5,\n",
       "       12.5, 13.5, 14.5, 15.5, 16.5, 17.5])"
      ]
     },
     "execution_count": 76,
     "metadata": {},
     "output_type": "execute_result"
    }
   ],
   "source": [
    "from numpy.lib.stride_tricks import sliding_window_view\n",
    "\n",
    "Z = np.arange(20)\n",
    "sliding_window_view(Z, window_shape=4).mean(axis=-1)"
   ]
  },
  {
   "cell_type": "markdown",
   "id": "1ca35bda",
   "metadata": {},
   "source": [
    "#### 76. Consider a one-dimensional array Z, build a two-dimensional array whose first row is (Z[0],Z[1],Z[2]) and each subsequent row is  shifted by 1 (last row should be (Z[-3],Z[-2],Z[-1]) (★★★)"
   ]
  },
  {
   "cell_type": "code",
   "execution_count": 77,
   "id": "900e8b0a",
   "metadata": {},
   "outputs": [
    {
     "data": {
      "text/plain": [
       "array([[0, 1, 2],\n",
       "       [1, 2, 3],\n",
       "       [2, 3, 4],\n",
       "       [3, 4, 5],\n",
       "       [4, 5, 6],\n",
       "       [5, 6, 7],\n",
       "       [6, 7, 8],\n",
       "       [7, 8, 9]])"
      ]
     },
     "execution_count": 77,
     "metadata": {},
     "output_type": "execute_result"
    }
   ],
   "source": [
    "Z = np.arange(10)\n",
    "sliding_window_view(Z, window_shape=3)"
   ]
  },
  {
   "cell_type": "markdown",
   "id": "18bd6fab",
   "metadata": {},
   "source": [
    "#### 77. How to negate a boolean, or to change the sign of a float inplace? (★★★)"
   ]
  },
  {
   "cell_type": "code",
   "execution_count": 78,
   "id": "554c5103",
   "metadata": {},
   "outputs": [
    {
     "data": {
      "text/plain": [
       "array([ 0.81875203,  0.00131709,  0.67399931, -0.71718045,  0.23034579,\n",
       "       -0.82137431, -0.39486681,  0.3691052 , -0.29710068,  0.67762839,\n",
       "        0.16985035,  0.78461085, -0.86448967, -0.90317975, -0.16822432,\n",
       "        0.82172941,  0.80511993, -0.62206033,  0.16344339, -0.67915164,\n",
       "        0.93860821, -0.03058015,  0.65442816, -0.61007434, -0.55796949,\n",
       "        0.76841956, -0.95724095,  0.87075089, -0.11616452, -0.87907492,\n",
       "        0.99764267,  0.73952483,  0.71089396, -0.20856225, -0.26954253,\n",
       "       -0.38579861,  0.12752887,  0.35466882, -0.51852046, -0.55807768,\n",
       "       -0.23502156, -0.92487925, -0.52620462, -0.68086083, -0.96421174,\n",
       "        0.39150595, -0.54681   ,  0.90897302,  0.94973913, -0.33347927,\n",
       "       -0.77802264,  0.47224508, -0.8811066 ,  0.26726273, -0.4382305 ,\n",
       "        0.89612395, -0.66899014,  0.99822022, -0.62381134, -0.32903673,\n",
       "       -0.17967252,  0.02892303, -0.81589234,  0.24491323, -0.4526122 ,\n",
       "       -0.3103448 ,  0.65622464,  0.49339183,  0.80689617, -0.30762649,\n",
       "       -0.92129015, -0.66081232,  0.00800727, -0.36465135, -0.93977053,\n",
       "       -0.11699489, -0.79393568,  0.04144403, -0.35044616,  0.40396202,\n",
       "        0.63166042,  0.89799429,  0.08634879, -0.13229716,  0.92155945,\n",
       "       -0.99963487, -0.72798727, -0.97827524, -0.15776088, -0.07759161,\n",
       "       -0.73512909,  0.49588221,  0.09194813, -0.3624064 ,  0.28772073,\n",
       "       -0.35892281,  0.85565832, -0.80872658,  0.98387608, -0.55632305])"
      ]
     },
     "execution_count": 78,
     "metadata": {},
     "output_type": "execute_result"
    }
   ],
   "source": [
    "a = np.random.uniform(-1.0,1.0,100)\n",
    "np.negative(a, out=a)"
   ]
  },
  {
   "cell_type": "markdown",
   "id": "79a5b412",
   "metadata": {},
   "source": [
    "#### 78. Consider 2 sets of points P0,P1 describing lines (2d) and a point p, how to compute distance from p to each line i (P0[i],P1[i])? (★★★)"
   ]
  },
  {
   "cell_type": "code",
   "execution_count": 79,
   "id": "4e4eac2f",
   "metadata": {},
   "outputs": [],
   "source": [
    "# Что-то как-то лень думать\n",
    "# Если что дистанция расчитывается при помощи скалярного произведения"
   ]
  },
  {
   "cell_type": "markdown",
   "id": "33ffa66d",
   "metadata": {},
   "source": [
    "#### 79. Consider 2 sets of points P0,P1 describing lines (2d) and a set of points P, how to compute distance from each point j (P[j]) to each line i (P0[i],P1[i])? (★★★)"
   ]
  },
  {
   "cell_type": "code",
   "execution_count": 80,
   "id": "b56c2510",
   "metadata": {},
   "outputs": [],
   "source": [
    "# Что-то как-то лень думать\n",
    "# Если что дистанция расчитывается при помощи скалярного произведения"
   ]
  },
  {
   "cell_type": "markdown",
   "id": "a0f23dfa",
   "metadata": {},
   "source": [
    "#### 80. Consider an arbitrary array, write a function that extract a subpart with a fixed shape and centered on a given element (pad with a `fill` value when necessary) (★★★)"
   ]
  },
  {
   "cell_type": "code",
   "execution_count": null,
   "id": "4b7b96fc",
   "metadata": {},
   "outputs": [],
   "source": []
  },
  {
   "cell_type": "markdown",
   "id": "cc27e944",
   "metadata": {},
   "source": [
    "#### 81. Consider an array Z = [1,2,3,4,5,6,7,8,9,10,11,12,13,14], how to generate an array R = [[1,2,3,4], [2,3,4,5], [3,4,5,6], ..., [11,12,13,14]]? (★★★)"
   ]
  },
  {
   "cell_type": "code",
   "execution_count": 81,
   "id": "2fdaa26c",
   "metadata": {},
   "outputs": [
    {
     "data": {
      "text/plain": [
       "array([[ 1,  2,  3,  4],\n",
       "       [ 2,  3,  4,  5],\n",
       "       [ 3,  4,  5,  6],\n",
       "       [ 4,  5,  6,  7],\n",
       "       [ 5,  6,  7,  8],\n",
       "       [ 6,  7,  8,  9],\n",
       "       [ 7,  8,  9, 10],\n",
       "       [ 8,  9, 10, 11],\n",
       "       [ 9, 10, 11, 12],\n",
       "       [10, 11, 12, 13],\n",
       "       [11, 12, 13, 14]], dtype=uint32)"
      ]
     },
     "execution_count": 81,
     "metadata": {},
     "output_type": "execute_result"
    }
   ],
   "source": [
    "Z = np.arange(1, 15, dtype=np.uint32)\n",
    "sliding_window_view(Z, window_shape=4)"
   ]
  },
  {
   "cell_type": "markdown",
   "id": "9bc44d6e",
   "metadata": {},
   "source": [
    "#### 82. Compute a matrix rank (★★★)"
   ]
  },
  {
   "cell_type": "code",
   "execution_count": 82,
   "id": "3a4c7564",
   "metadata": {},
   "outputs": [
    {
     "data": {
      "text/plain": [
       "10"
      ]
     },
     "execution_count": 82,
     "metadata": {},
     "output_type": "execute_result"
    }
   ],
   "source": [
    "a = np.random.uniform(0, 1, (10, 10))\n",
    "np.linalg.matrix_rank(a)"
   ]
  },
  {
   "cell_type": "markdown",
   "id": "718a82dd",
   "metadata": {},
   "source": [
    "#### 83. How to find the most frequent value in an array?"
   ]
  },
  {
   "cell_type": "code",
   "execution_count": 83,
   "id": "8ffc513c",
   "metadata": {},
   "outputs": [
    {
     "data": {
      "text/plain": [
       "0"
      ]
     },
     "execution_count": 83,
     "metadata": {},
     "output_type": "execute_result"
    }
   ],
   "source": [
    "a = np.random.randint(0, 10, 50)\n",
    "np.bincount(a).argmax()"
   ]
  },
  {
   "cell_type": "markdown",
   "id": "754ceeba",
   "metadata": {},
   "source": [
    "#### 84. Extract all the contiguous 3x3 blocks from a random 10x10 matrix (★★★)"
   ]
  },
  {
   "cell_type": "code",
   "execution_count": 84,
   "id": "c32bb120",
   "metadata": {},
   "outputs": [
    {
     "data": {
      "text/plain": [
       "array([[[[0, 6, 7],\n",
       "         [4, 4, 1],\n",
       "         [9, 0, 4]],\n",
       "\n",
       "        [[6, 7, 6],\n",
       "         [4, 1, 4],\n",
       "         [0, 4, 9]],\n",
       "\n",
       "        [[7, 6, 4],\n",
       "         [1, 4, 9],\n",
       "         [4, 9, 2]],\n",
       "\n",
       "        [[6, 4, 3],\n",
       "         [4, 9, 0],\n",
       "         [9, 2, 1]],\n",
       "\n",
       "        [[4, 3, 1],\n",
       "         [9, 0, 9],\n",
       "         [2, 1, 7]],\n",
       "\n",
       "        [[3, 1, 0],\n",
       "         [0, 9, 9],\n",
       "         [1, 7, 0]],\n",
       "\n",
       "        [[1, 0, 6],\n",
       "         [9, 9, 8],\n",
       "         [7, 0, 0]],\n",
       "\n",
       "        [[0, 6, 5],\n",
       "         [9, 8, 4],\n",
       "         [0, 0, 8]]],\n",
       "\n",
       "\n",
       "       [[[4, 4, 1],\n",
       "         [9, 0, 4],\n",
       "         [3, 0, 1]],\n",
       "\n",
       "        [[4, 1, 4],\n",
       "         [0, 4, 9],\n",
       "         [0, 1, 3]],\n",
       "\n",
       "        [[1, 4, 9],\n",
       "         [4, 9, 2],\n",
       "         [1, 3, 6]],\n",
       "\n",
       "        [[4, 9, 0],\n",
       "         [9, 2, 1],\n",
       "         [3, 6, 4]],\n",
       "\n",
       "        [[9, 0, 9],\n",
       "         [2, 1, 7],\n",
       "         [6, 4, 7]],\n",
       "\n",
       "        [[0, 9, 9],\n",
       "         [1, 7, 0],\n",
       "         [4, 7, 8]],\n",
       "\n",
       "        [[9, 9, 8],\n",
       "         [7, 0, 0],\n",
       "         [7, 8, 9]],\n",
       "\n",
       "        [[9, 8, 4],\n",
       "         [0, 0, 8],\n",
       "         [8, 9, 7]]],\n",
       "\n",
       "\n",
       "       [[[9, 0, 4],\n",
       "         [3, 0, 1],\n",
       "         [1, 7, 5]],\n",
       "\n",
       "        [[0, 4, 9],\n",
       "         [0, 1, 3],\n",
       "         [7, 5, 4]],\n",
       "\n",
       "        [[4, 9, 2],\n",
       "         [1, 3, 6],\n",
       "         [5, 4, 6]],\n",
       "\n",
       "        [[9, 2, 1],\n",
       "         [3, 6, 4],\n",
       "         [4, 6, 7]],\n",
       "\n",
       "        [[2, 1, 7],\n",
       "         [6, 4, 7],\n",
       "         [6, 7, 8]],\n",
       "\n",
       "        [[1, 7, 0],\n",
       "         [4, 7, 8],\n",
       "         [7, 8, 2]],\n",
       "\n",
       "        [[7, 0, 0],\n",
       "         [7, 8, 9],\n",
       "         [8, 2, 8]],\n",
       "\n",
       "        [[0, 0, 8],\n",
       "         [8, 9, 7],\n",
       "         [2, 8, 0]]],\n",
       "\n",
       "\n",
       "       [[[3, 0, 1],\n",
       "         [1, 7, 5],\n",
       "         [0, 3, 2]],\n",
       "\n",
       "        [[0, 1, 3],\n",
       "         [7, 5, 4],\n",
       "         [3, 2, 2]],\n",
       "\n",
       "        [[1, 3, 6],\n",
       "         [5, 4, 6],\n",
       "         [2, 2, 1]],\n",
       "\n",
       "        [[3, 6, 4],\n",
       "         [4, 6, 7],\n",
       "         [2, 1, 8]],\n",
       "\n",
       "        [[6, 4, 7],\n",
       "         [6, 7, 8],\n",
       "         [1, 8, 0]],\n",
       "\n",
       "        [[4, 7, 8],\n",
       "         [7, 8, 2],\n",
       "         [8, 0, 6]],\n",
       "\n",
       "        [[7, 8, 9],\n",
       "         [8, 2, 8],\n",
       "         [0, 6, 4]],\n",
       "\n",
       "        [[8, 9, 7],\n",
       "         [2, 8, 0],\n",
       "         [6, 4, 4]]],\n",
       "\n",
       "\n",
       "       [[[1, 7, 5],\n",
       "         [0, 3, 2],\n",
       "         [9, 2, 4]],\n",
       "\n",
       "        [[7, 5, 4],\n",
       "         [3, 2, 2],\n",
       "         [2, 4, 0]],\n",
       "\n",
       "        [[5, 4, 6],\n",
       "         [2, 2, 1],\n",
       "         [4, 0, 4]],\n",
       "\n",
       "        [[4, 6, 7],\n",
       "         [2, 1, 8],\n",
       "         [0, 4, 0]],\n",
       "\n",
       "        [[6, 7, 8],\n",
       "         [1, 8, 0],\n",
       "         [4, 0, 1]],\n",
       "\n",
       "        [[7, 8, 2],\n",
       "         [8, 0, 6],\n",
       "         [0, 1, 0]],\n",
       "\n",
       "        [[8, 2, 8],\n",
       "         [0, 6, 4],\n",
       "         [1, 0, 3]],\n",
       "\n",
       "        [[2, 8, 0],\n",
       "         [6, 4, 4],\n",
       "         [0, 3, 5]]],\n",
       "\n",
       "\n",
       "       [[[0, 3, 2],\n",
       "         [9, 2, 4],\n",
       "         [6, 3, 7]],\n",
       "\n",
       "        [[3, 2, 2],\n",
       "         [2, 4, 0],\n",
       "         [3, 7, 3]],\n",
       "\n",
       "        [[2, 2, 1],\n",
       "         [4, 0, 4],\n",
       "         [7, 3, 9]],\n",
       "\n",
       "        [[2, 1, 8],\n",
       "         [0, 4, 0],\n",
       "         [3, 9, 5]],\n",
       "\n",
       "        [[1, 8, 0],\n",
       "         [4, 0, 1],\n",
       "         [9, 5, 2]],\n",
       "\n",
       "        [[8, 0, 6],\n",
       "         [0, 1, 0],\n",
       "         [5, 2, 1]],\n",
       "\n",
       "        [[0, 6, 4],\n",
       "         [1, 0, 3],\n",
       "         [2, 1, 6]],\n",
       "\n",
       "        [[6, 4, 4],\n",
       "         [0, 3, 5],\n",
       "         [1, 6, 6]]],\n",
       "\n",
       "\n",
       "       [[[9, 2, 4],\n",
       "         [6, 3, 7],\n",
       "         [5, 2, 1]],\n",
       "\n",
       "        [[2, 4, 0],\n",
       "         [3, 7, 3],\n",
       "         [2, 1, 5]],\n",
       "\n",
       "        [[4, 0, 4],\n",
       "         [7, 3, 9],\n",
       "         [1, 5, 3]],\n",
       "\n",
       "        [[0, 4, 0],\n",
       "         [3, 9, 5],\n",
       "         [5, 3, 0]],\n",
       "\n",
       "        [[4, 0, 1],\n",
       "         [9, 5, 2],\n",
       "         [3, 0, 6]],\n",
       "\n",
       "        [[0, 1, 0],\n",
       "         [5, 2, 1],\n",
       "         [0, 6, 9]],\n",
       "\n",
       "        [[1, 0, 3],\n",
       "         [2, 1, 6],\n",
       "         [6, 9, 3]],\n",
       "\n",
       "        [[0, 3, 5],\n",
       "         [1, 6, 6],\n",
       "         [9, 3, 7]]],\n",
       "\n",
       "\n",
       "       [[[6, 3, 7],\n",
       "         [5, 2, 1],\n",
       "         [4, 6, 2]],\n",
       "\n",
       "        [[3, 7, 3],\n",
       "         [2, 1, 5],\n",
       "         [6, 2, 8]],\n",
       "\n",
       "        [[7, 3, 9],\n",
       "         [1, 5, 3],\n",
       "         [2, 8, 5]],\n",
       "\n",
       "        [[3, 9, 5],\n",
       "         [5, 3, 0],\n",
       "         [8, 5, 4]],\n",
       "\n",
       "        [[9, 5, 2],\n",
       "         [3, 0, 6],\n",
       "         [5, 4, 2]],\n",
       "\n",
       "        [[5, 2, 1],\n",
       "         [0, 6, 9],\n",
       "         [4, 2, 3]],\n",
       "\n",
       "        [[2, 1, 6],\n",
       "         [6, 9, 3],\n",
       "         [2, 3, 3]],\n",
       "\n",
       "        [[1, 6, 6],\n",
       "         [9, 3, 7],\n",
       "         [3, 3, 2]]]])"
      ]
     },
     "execution_count": 84,
     "metadata": {},
     "output_type": "execute_result"
    }
   ],
   "source": [
    "a = np.random.randint(0, 10, (10, 10))\n",
    "sliding_window_view(a, window_shape=(3, 3))"
   ]
  },
  {
   "cell_type": "markdown",
   "id": "9fc0b63a",
   "metadata": {},
   "source": [
    "#### 85. Create a 2D array subclass such that Z[i,j] == Z[j,i] (★★★)"
   ]
  },
  {
   "cell_type": "code",
   "execution_count": 85,
   "id": "c41d0f9b",
   "metadata": {},
   "outputs": [
    {
     "data": {
      "text/plain": [
       "Symetric([[  4,   4,   7,   7,  14,   7,   6,  13,  11,   8],\n",
       "          [  4,   9, 228,  10,  12,   6,   6,  12,   4,   8],\n",
       "          [  7, 228,   2,   2,  11,   8,   5,  13,   8,   1],\n",
       "          [  7,  10,   2,   2,   4,  14,  13,   6,   3,   9],\n",
       "          [ 14,  12,  11,   4,   3,   4,  13,   3,  15,   5],\n",
       "          [  7,   6,   8,  14,   4,   6,   1,   5,   4,   6],\n",
       "          [  6,   6,   5,  13,  13,   1,   6,  10,   6,  18],\n",
       "          [ 13,  12,  13,   6,   3,   5,  10,   1,   9,   7],\n",
       "          [ 11,   4,   8,   3,  15,   4,   6,   9,   6,  10],\n",
       "          [  8,   8,   1,   9,   5,   6,  18,   7,  10,   4]])"
      ]
     },
     "execution_count": 85,
     "metadata": {},
     "output_type": "execute_result"
    }
   ],
   "source": [
    "class Symetric(np.ndarray):\n",
    "    def __setitem__(self, index, value):\n",
    "        i,j = index\n",
    "        super(Symetric, self).__setitem__((i,j), value)\n",
    "        super(Symetric, self).__setitem__((j,i), value)\n",
    "\n",
    "def symetric(a):\n",
    "    return np.asarray(a + a.T - np.diag(a.diagonal())).view(Symetric)\n",
    "\n",
    "a = symetric(np.random.randint(0, 10, (10, 10)))\n",
    "a[1, 2] = 228\n",
    "a"
   ]
  },
  {
   "cell_type": "markdown",
   "id": "ae909782",
   "metadata": {},
   "source": [
    "#### 86. Consider a set of p matrices wich shape (n,n) and a set of p vectors with shape (n,1). How to compute the sum of of the p matrix products at once? (result has shape (n,1)) (★★★)"
   ]
  },
  {
   "cell_type": "code",
   "execution_count": 86,
   "id": "013944b1",
   "metadata": {},
   "outputs": [
    {
     "data": {
      "text/plain": [
       "array([[50.],\n",
       "       [50.],\n",
       "       [50.],\n",
       "       [50.],\n",
       "       [50.],\n",
       "       [50.],\n",
       "       [50.],\n",
       "       [50.],\n",
       "       [50.],\n",
       "       [50.]])"
      ]
     },
     "execution_count": 86,
     "metadata": {},
     "output_type": "execute_result"
    }
   ],
   "source": [
    "p, n = 5, 10\n",
    "a = np.ones((p, n, n))\n",
    "b = np.ones((p, n, 1))\n",
    "o = np.tensordot(a, b, axes=[[0, 2], [0, 1]])\n",
    "o"
   ]
  },
  {
   "cell_type": "markdown",
   "id": "5f134bf4",
   "metadata": {},
   "source": [
    "#### 87. Consider a 16x16 array, how to get the block-sum (block size is 4x4)? (★★★)"
   ]
  },
  {
   "cell_type": "code",
   "execution_count": 87,
   "id": "bf480005",
   "metadata": {},
   "outputs": [
    {
     "data": {
      "text/plain": [
       "array([[16., 16., 16., 16.],\n",
       "       [16., 16., 16., 16.],\n",
       "       [16., 16., 16., 16.],\n",
       "       [16., 16., 16., 16.]])"
      ]
     },
     "execution_count": 87,
     "metadata": {},
     "output_type": "execute_result"
    }
   ],
   "source": [
    "a = np.ones((16, 16))\n",
    "sliding_window_view(a, window_shape=(4, 4))[::4, ::4].sum(axis=(-2, -1))"
   ]
  },
  {
   "cell_type": "markdown",
   "id": "aa91a3be",
   "metadata": {},
   "source": [
    "#### 88. How to implement the Game of Life using numpy arrays? (★★★)"
   ]
  },
  {
   "cell_type": "code",
   "execution_count": 88,
   "id": "a20f0e2b",
   "metadata": {},
   "outputs": [
    {
     "data": {
      "text/plain": [
       "array([[0, 0, 0, ..., 0, 0, 0],\n",
       "       [0, 0, 0, ..., 0, 0, 0],\n",
       "       [0, 0, 0, ..., 0, 0, 0],\n",
       "       ...,\n",
       "       [0, 0, 0, ..., 0, 0, 0],\n",
       "       [0, 0, 0, ..., 0, 0, 0],\n",
       "       [0, 0, 0, ..., 0, 0, 0]])"
      ]
     },
     "execution_count": 88,
     "metadata": {},
     "output_type": "execute_result"
    }
   ],
   "source": [
    "def iterate(field):\n",
    "    # Подсчет соседей\n",
    "    N = (field[0:-2, 0:-2] + field[0:-2, 1:-1] + field[0:-2, 2:] +\n",
    "         field[1:-1, 0:-2]                     + field[1:-1, 2:] +\n",
    "         field[2:  , 0:-2] + field[2:  , 1:-1] + field[2:   ,2:])\n",
    "\n",
    "    # Реализовываем логику для каждого числа соседей\n",
    "    birth = (N == 3) & (field[1:-1, 1:-1] == 0)\n",
    "    survive = ((N==2) | (N==3)) & (field[1:-1, 1:-1] == 1)\n",
    "    field[...] = 0\n",
    "    field[1:-1,1:-1][birth | survive] = 1\n",
    "    return field\n",
    "\n",
    "field = np.random.randint(0,2,(50,50))\n",
    "for i in range(100): field = iterate(field)\n",
    "field"
   ]
  },
  {
   "cell_type": "markdown",
   "id": "885023d9",
   "metadata": {},
   "source": [
    "#### 89. How to get the n largest values of an array (★★★)"
   ]
  },
  {
   "cell_type": "code",
   "execution_count": 89,
   "id": "996ab585",
   "metadata": {},
   "outputs": [
    {
     "name": "stdout",
     "output_type": "stream",
     "text": [
      "[90 91 92 93 94 95 96 97 98 99]\n"
     ]
    }
   ],
   "source": [
    "a = np.arange(100)\n",
    "n = 10\n",
    "print(a[np.argsort(a)[-n:]])"
   ]
  },
  {
   "cell_type": "markdown",
   "id": "d0518aeb",
   "metadata": {},
   "source": [
    "#### 90. Given an arbitrary number of vectors, build the cartesian product (every combinations of every item) (★★★)"
   ]
  },
  {
   "cell_type": "code",
   "execution_count": 90,
   "id": "d9ae30ca",
   "metadata": {},
   "outputs": [],
   "source": [
    "# Лень думать"
   ]
  },
  {
   "cell_type": "markdown",
   "id": "20cc5dc6",
   "metadata": {},
   "source": [
    "#### 91. How to create a record array from a regular array? (★★★)"
   ]
  },
  {
   "cell_type": "code",
   "execution_count": 91,
   "id": "a7d05a34",
   "metadata": {},
   "outputs": [
    {
     "data": {
      "text/plain": [
       "rec.array([(b'first', 1., 3), (b'second', 2., 4)],\n",
       "          dtype=[('col1', 'S8'), ('col2', '<f8'), ('col3', '<i8')])"
      ]
     },
     "execution_count": 91,
     "metadata": {},
     "output_type": "execute_result"
    }
   ],
   "source": [
    "a = np.array([(\"first\", 1, 3),\n",
    "              (\"second\", 2, 4)])\n",
    "records = np.core.records.fromarrays(a.T,\n",
    "                               names='col1, col2, col3',\n",
    "                               formats = 'S8, f8, i8')\n",
    "records"
   ]
  },
  {
   "cell_type": "markdown",
   "id": "e59a2c44",
   "metadata": {},
   "source": [
    "#### 92. Consider a large vector Z, compute Z to the power of 3 using 3 different methods (★★★)"
   ]
  },
  {
   "cell_type": "code",
   "execution_count": 92,
   "id": "916168ea",
   "metadata": {},
   "outputs": [
    {
     "name": "stdout",
     "output_type": "stream",
     "text": [
      "856 ns ± 26.3 ns per loop (mean ± std. dev. of 7 runs, 1,000,000 loops each)\n",
      "1.61 µs ± 136 ns per loop (mean ± std. dev. of 7 runs, 1,000,000 loops each)\n"
     ]
    }
   ],
   "source": [
    "Z = np.random.rand(int(100))\n",
    "\n",
    "%timeit np.power(x,3)\n",
    "%timeit x*x*x"
   ]
  },
  {
   "cell_type": "markdown",
   "id": "f1fc4b70",
   "metadata": {},
   "source": [
    "#### 93. Consider two arrays A and B of shape (8,3) and (2,2). How to find rows of A that contain elements of each row of B regardless of the order of the elements in B? (★★★)"
   ]
  },
  {
   "cell_type": "code",
   "execution_count": 93,
   "id": "d35b4705",
   "metadata": {},
   "outputs": [],
   "source": [
    "# Лень думать"
   ]
  },
  {
   "cell_type": "markdown",
   "id": "821a6ce8",
   "metadata": {},
   "source": [
    "#### 94. Considering a 10x3 matrix, extract rows with unequal values (e.g. [2,2,3]) (★★★)"
   ]
  },
  {
   "cell_type": "code",
   "execution_count": 94,
   "id": "5690c131",
   "metadata": {},
   "outputs": [
    {
     "data": {
      "text/plain": [
       "array([[3, 5, 6],\n",
       "       [1, 8, 0],\n",
       "       [3, 0, 9],\n",
       "       [2, 4, 2],\n",
       "       [3, 0, 3],\n",
       "       [2, 8, 2],\n",
       "       [2, 4, 7],\n",
       "       [4, 2, 4],\n",
       "       [1, 1, 8],\n",
       "       [3, 6, 8]])"
      ]
     },
     "execution_count": 94,
     "metadata": {},
     "output_type": "execute_result"
    }
   ],
   "source": [
    "a = np.random.randint(0, 10,(10,3))\n",
    "a[~(np.all(a[:,1:] == a[:,:-1], axis=1))]"
   ]
  },
  {
   "cell_type": "markdown",
   "id": "9dc9a61c",
   "metadata": {},
   "source": [
    "#### 95. Convert a vector of ints into a matrix binary representation (★★★)"
   ]
  },
  {
   "cell_type": "code",
   "execution_count": 95,
   "id": "c728306f",
   "metadata": {},
   "outputs": [
    {
     "data": {
      "text/plain": [
       "array([[0, 0, 0, 0, 0, 0, 0, 0],\n",
       "       [0, 0, 0, 0, 0, 0, 0, 1],\n",
       "       [0, 0, 0, 0, 0, 0, 1, 0],\n",
       "       [0, 0, 0, 0, 0, 1, 0, 0],\n",
       "       [0, 0, 0, 0, 1, 0, 0, 0],\n",
       "       [0, 0, 0, 1, 0, 0, 0, 0],\n",
       "       [0, 0, 1, 0, 0, 0, 0, 0],\n",
       "       [0, 1, 0, 0, 0, 0, 0, 0],\n",
       "       [1, 0, 0, 0, 0, 0, 0, 0]], dtype=uint8)"
      ]
     },
     "execution_count": 95,
     "metadata": {},
     "output_type": "execute_result"
    }
   ],
   "source": [
    "a = np.array([0, 1, 2, 4, 8, 16, 32, 64, 128], dtype=np.uint8)\n",
    "np.unpackbits(a[:, np.newaxis], axis=1)"
   ]
  },
  {
   "cell_type": "markdown",
   "id": "cca48e6e",
   "metadata": {},
   "source": [
    "#### 96. Given a two dimensional array, how to extract unique rows? (★★★)"
   ]
  },
  {
   "cell_type": "code",
   "execution_count": 96,
   "id": "ae2e6484",
   "metadata": {},
   "outputs": [
    {
     "data": {
      "text/plain": [
       "array([[3, 9, 2, 3],\n",
       "       [8, 2, 6, 7]])"
      ]
     },
     "execution_count": 96,
     "metadata": {},
     "output_type": "execute_result"
    }
   ],
   "source": [
    "a = np.random.randint(0, 10, (2, 4))\n",
    "np.unique(a, axis=0)"
   ]
  },
  {
   "cell_type": "markdown",
   "id": "3621d474",
   "metadata": {},
   "source": [
    "#### 97. Considering 2 vectors A & B, write the einsum equivalent of inner, outer, sum, and mul function (★★★)"
   ]
  },
  {
   "cell_type": "code",
   "execution_count": 97,
   "id": "09238dfb",
   "metadata": {},
   "outputs": [
    {
     "data": {
      "text/plain": [
       "array([[0.13450095, 0.48739886, 0.13240887, 0.67112761, 0.17973077,\n",
       "        0.59790156, 0.41252934, 0.53086791, 0.40598591, 0.1943227 ],\n",
       "       [0.06754525, 0.24476763, 0.06649463, 0.33703467, 0.09025929,\n",
       "        0.30026116, 0.20716878, 0.26659742, 0.20388273, 0.09758723],\n",
       "       [0.0980108 , 0.35516741, 0.09648631, 0.4890505 , 0.13096976,\n",
       "        0.4356907 , 0.30061001, 0.3868433 , 0.29584182, 0.14160289],\n",
       "       [0.01116691, 0.04046617, 0.01099321, 0.0557202 , 0.0149221 ,\n",
       "        0.04964063, 0.03425015, 0.04407518, 0.03370688, 0.01613359],\n",
       "       [0.0845171 , 0.30626949, 0.08320249, 0.42172014, 0.11293841,\n",
       "        0.37570668, 0.25922332, 0.33358438, 0.25511159, 0.12210762],\n",
       "       [0.12693753, 0.45999087, 0.1249631 , 0.63338797, 0.16962394,\n",
       "        0.56427965, 0.3893315 , 0.50101552, 0.38315603, 0.18339531],\n",
       "       [0.08523742, 0.30887978, 0.08391161, 0.42531439, 0.11390096,\n",
       "        0.37890877, 0.26143264, 0.33642746, 0.25728587, 0.12314832],\n",
       "       [0.00810873, 0.02938406, 0.0079826 , 0.04046061, 0.01083552,\n",
       "        0.03604599, 0.02487037, 0.0320047 , 0.02447588, 0.01171523],\n",
       "       [0.05270637, 0.19099511, 0.05188655, 0.26299218, 0.0704304 ,\n",
       "        0.23429737, 0.16165628, 0.20802916, 0.15909213, 0.07614848],\n",
       "       [0.10841455, 0.39286806, 0.10672823, 0.5409627 , 0.14487206,\n",
       "        0.48193881, 0.33251945, 0.4279063 , 0.32724512, 0.15663389]])"
      ]
     },
     "execution_count": 97,
     "metadata": {},
     "output_type": "execute_result"
    }
   ],
   "source": [
    "a = np.random.uniform(0,1,10)\n",
    "b = np.random.uniform(0,1,10)\n",
    "\n",
    "np.einsum('i->', a)\n",
    "np.einsum('i,i->i', a, b)\n",
    "np.einsum('i,i', a, b)\n",
    "np.einsum('i,j->ij', a, b)"
   ]
  },
  {
   "cell_type": "markdown",
   "id": "26162fae",
   "metadata": {},
   "source": [
    "#### 98. Considering a path described by two vectors (X,Y), how to sample it using equidistant samples (★★★)?"
   ]
  },
  {
   "cell_type": "code",
   "execution_count": 98,
   "id": "283c279f",
   "metadata": {},
   "outputs": [],
   "source": [
    "# Лень думать"
   ]
  },
  {
   "cell_type": "markdown",
   "id": "44b20c57",
   "metadata": {},
   "source": [
    "#### 99. Given an integer n and a 2D array X, select from X the rows which can be interpreted as draws from a multinomial distribution with n degrees, i.e., the rows which only contain integers and which sum to n. (★★★)"
   ]
  },
  {
   "cell_type": "code",
   "execution_count": 99,
   "id": "389b7190",
   "metadata": {},
   "outputs": [],
   "source": [
    "# Лень думать"
   ]
  },
  {
   "cell_type": "markdown",
   "id": "6fa5ed76",
   "metadata": {},
   "source": [
    "#### 100. Compute bootstrapped 95% confidence intervals for the mean of a 1D array X (i.e., resample the elements of an array with replacement N times, compute the mean of each sample, and then compute percentiles over the means). (★★★)"
   ]
  },
  {
   "cell_type": "code",
   "execution_count": 100,
   "id": "4db4cc57",
   "metadata": {},
   "outputs": [
    {
     "name": "stdout",
     "output_type": "stream",
     "text": [
      "[-0.08563768  0.20623796]\n"
     ]
    }
   ],
   "source": [
    "a = np.random.randn(100)\n",
    "n = 1000\n",
    "idx = np.random.randint(0, a.size, (n, a.size))\n",
    "means = a[idx].mean(axis=1)\n",
    "confint = np.percentile(means, [3.1, 85.2])\n",
    "print(confint)"
   ]
  }
 ],
 "metadata": {
  "kernelspec": {
   "display_name": "venv",
   "language": "python",
   "name": "python3"
  },
  "language_info": {
   "codemirror_mode": {
    "name": "ipython",
    "version": 3
   },
   "file_extension": ".py",
   "mimetype": "text/x-python",
   "name": "python",
   "nbconvert_exporter": "python",
   "pygments_lexer": "ipython3",
   "version": "3.9.6"
  }
 },
 "nbformat": 4,
 "nbformat_minor": 5
}
